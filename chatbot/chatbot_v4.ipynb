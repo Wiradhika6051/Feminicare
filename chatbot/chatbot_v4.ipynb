{
 "cells": [
  {
   "cell_type": "markdown",
   "metadata": {},
   "source": [
    "## Chatbot"
   ]
  },
  {
   "cell_type": "markdown",
   "metadata": {},
   "source": [
    "### Input library"
   ]
  },
  {
   "cell_type": "code",
   "execution_count": 1,
   "metadata": {},
   "outputs": [],
   "source": [
    "import numpy as np\n",
    "import tensorflow as tf\n",
    "from tensorflow.keras.models import Sequential\n",
    "import re\n",
    "import json\n",
    "import nltk\n",
    "from nltk.stem import WordNetLemmatizer\n",
    "import pandas as pd"
   ]
  },
  {
   "cell_type": "markdown",
   "metadata": {},
   "source": [
    "### load dataset dan preparation"
   ]
  },
  {
   "cell_type": "code",
   "execution_count": 2,
   "metadata": {},
   "outputs": [],
   "source": [
    "\n",
    "\n",
    "with open('dataset3.json') as f:\n",
    "    data = json.load(f)\n",
    "\n",
    "# Load the additional corpus from corpus.json\n",
    "with open('dataset/corpus/id/agent.json') as f:\n",
    "    agent = json.load(f)\n",
    "\n",
    "with open('dataset/corpus/id/dialog.json') as f:\n",
    "    dialog = json.load(f)\n",
    "\n",
    "with open('dataset/corpus/id/motivasi.json') as f:\n",
    "    motivation = json.load(f)\n",
    "\n",
    "with open('dataset/corpus/id/None.json') as f:\n",
    "    none = json.load(f)\n",
    "\n",
    "with open('dataset/corpus/id/user.json') as f:\n",
    "    user = json.load(f)\n",
    "\n",
    "\n",
    "\n",
    "# Append the corpus data to the existing data\n",
    "data['intents'].extend(agent)\n",
    "data['intents'].extend(dialog)\n",
    "data['intents'].extend(motivation)\n",
    "data['intents'].extend(none)\n",
    "data['intents'].extend(user)\n",
    "\n",
    "\n",
    "stop_words = set()\n",
    "\n",
    "with open('stopword_id.txt', 'r', encoding='utf-8') as file:\n",
    "    for line in file:\n",
    "        stop_words.add(line.strip())\n",
    "\n",
    "tags = []\n",
    "inputs = []\n",
    "responses = {}\n",
    "lemmatizer = WordNetLemmatizer()\n",
    "\n",
    "for intent in data['intents']:\n",
    "    responses[intent['tag']] = intent['responses']\n",
    "    for line in intent['patterns']:\n",
    "        # Prapemrosesan teks\n",
    "        line = re.sub('[.,’\"\\'-?:!;]', '', line)\n",
    "        \n",
    "        # Tokenize each word in the pattern\n",
    "        w = nltk.word_tokenize(line)\n",
    "        w = [lemmatizer.lemmatize(word.lower()) for word in w if word not in stop_words]\n",
    "        inputs.append(' '.join(w))\n",
    "        tags.append(intent['tag'])\n",
    "\n",
    "# Create a DataFrame\n",
    "data_df = pd.DataFrame({\"inputs\": inputs, \"tags\": tags})\n"
   ]
  },
  {
   "cell_type": "markdown",
   "metadata": {},
   "source": [
    "### print dataset setelah preparation"
   ]
  },
  {
   "cell_type": "code",
   "execution_count": 3,
   "metadata": {},
   "outputs": [
    {
     "name": "stdout",
     "output_type": "stream",
     "text": [
      "                     inputs                    tags\n",
      "0            apa feminicare      tentang_feminicare\n",
      "1                feminicare      tentang_feminicare\n",
      "2    definisikan feminicare      tentang_feminicare\n",
      "3            apa feminicare      tentang_feminicare\n",
      "4                feminicare      tentang_feminicare\n",
      "..                      ...                     ...\n",
      "907                 lakukan        user.needsadvice\n",
      "908                          user.permission_to_ask\n",
      "909                          user.permission_to_ask\n",
      "910                          user.permission_to_ask\n",
      "911                   nanya  user.permission_to_ask\n",
      "\n",
      "[912 rows x 2 columns]\n"
     ]
    }
   ],
   "source": [
    "print(data_df)"
   ]
  },
  {
   "cell_type": "code",
   "execution_count": 4,
   "metadata": {},
   "outputs": [
    {
     "name": "stdout",
     "output_type": "stream",
     "text": [
      "CSV file created successfully.\n"
     ]
    }
   ],
   "source": [
    "data_df.to_csv('output.csv', index=False)\n",
    "\n",
    "print(\"CSV file created successfully.\")"
   ]
  },
  {
   "cell_type": "markdown",
   "metadata": {},
   "source": [
    "### preprocessing"
   ]
  },
  {
   "cell_type": "code",
   "execution_count": 4,
   "metadata": {},
   "outputs": [],
   "source": [
    "from sklearn.model_selection import train_test_split\n",
    "from tensorflow.keras.preprocessing.text import Tokenizer\n",
    "from tensorflow.keras.preprocessing.sequence import pad_sequences\n",
    "from sklearn.preprocessing import LabelEncoder\n",
    "\n",
    "# Tokenizer\n",
    "tokenizer = Tokenizer(num_words=2000, oov_token='<OOV>')\n",
    "tokenizer.fit_on_texts(data_df['inputs'])\n",
    "\n",
    "# Encode the outputs\n",
    "label_encoder = LabelEncoder()\n",
    "y_train = label_encoder.fit_transform(data_df['tags'])\n",
    "\n",
    "# Define input shape\n",
    "max_len = max(len(sequence) for sequence in sequences) \n",
    "# multinomial nb\n",
    "\n",
    "\n",
    "# Padding sequences\n",
    "sequences = tokenizer.texts_to_sequences(data_df['inputs'])\n",
    "x_train = pad_sequences(sequences, maxlen=max_len, truncating='post')\n",
    "\n",
    "# Split the data into training and testing sets\n",
    "x_train, x_test, y_train, y_test = train_test_split(x_train, y_train, test_size=0.2, random_state=42)\n"
   ]
  },
  {
   "cell_type": "markdown",
   "metadata": {},
   "source": [
    "### inisialisasi layer"
   ]
  },
  {
   "cell_type": "code",
   "execution_count": 5,
   "metadata": {},
   "outputs": [],
   "source": [
    "model = Sequential([\n",
    "    tf.keras.layers.Embedding(len(tokenizer.word_index)+1, 64, input_length=max_len),\n",
    "    tf.keras.layers.LSTM(2, return_sequences=True), \n",
    "    tf.keras.layers.Flatten(),\n",
    "    tf.keras.layers.Dropout(0.2), \n",
    "    tf.keras.layers.Dense(len(label_encoder.classes_), activation='softmax'),\n",
    "])\n",
    "\n",
    "\n",
    "# model.compile(loss='sparse_categorical_crossentropy', optimizer='adam', metrics=['accuracy'])\n",
    "model.compile(loss='sparse_categorical_crossentropy', optimizer='adam', metrics=['precision'])\n",
    "\n"
   ]
  },
  {
   "cell_type": "markdown",
   "metadata": {},
   "source": [
    "### training model"
   ]
  },
  {
   "cell_type": "code",
   "execution_count": 6,
   "metadata": {},
   "outputs": [
    {
     "name": "stdout",
     "output_type": "stream",
     "text": [
      "Epoch 1/100\n",
      "23/23 [==============================] - 5s 126ms/step - loss: 5.4764 - accuracy: 0.0041 - val_loss: 5.4537 - val_accuracy: 0.0055\n",
      "Epoch 2/100\n",
      "23/23 [==============================] - 2s 87ms/step - loss: 5.4303 - accuracy: 0.0165 - val_loss: 5.5911 - val_accuracy: 0.0000e+00\n",
      "Epoch 3/100\n",
      "23/23 [==============================] - 2s 85ms/step - loss: 5.3984 - accuracy: 0.0082 - val_loss: 5.6561 - val_accuracy: 0.0109\n",
      "Epoch 4/100\n",
      "23/23 [==============================] - 2s 99ms/step - loss: 5.3651 - accuracy: 0.0151 - val_loss: 5.5937 - val_accuracy: 0.0109\n",
      "Epoch 5/100\n",
      "23/23 [==============================] - 2s 94ms/step - loss: 5.3314 - accuracy: 0.0151 - val_loss: 5.6145 - val_accuracy: 0.0109\n",
      "Epoch 6/100\n",
      "23/23 [==============================] - 2s 96ms/step - loss: 5.2734 - accuracy: 0.0192 - val_loss: 5.6470 - val_accuracy: 0.0273\n",
      "Epoch 7/100\n",
      "23/23 [==============================] - 2s 103ms/step - loss: 5.1521 - accuracy: 0.0549 - val_loss: 5.4174 - val_accuracy: 0.0437\n",
      "Epoch 8/100\n",
      "23/23 [==============================] - 2s 98ms/step - loss: 4.8226 - accuracy: 0.0878 - val_loss: 5.0086 - val_accuracy: 0.0656\n",
      "Epoch 9/100\n",
      "23/23 [==============================] - 2s 88ms/step - loss: 4.3484 - accuracy: 0.1358 - val_loss: 4.8311 - val_accuracy: 0.0874\n",
      "Epoch 10/100\n",
      "23/23 [==============================] - 2s 93ms/step - loss: 3.8693 - accuracy: 0.2016 - val_loss: 4.6542 - val_accuracy: 0.1202\n",
      "Epoch 11/100\n",
      "23/23 [==============================] - 2s 88ms/step - loss: 3.4338 - accuracy: 0.2785 - val_loss: 4.0257 - val_accuracy: 0.1858\n",
      "Epoch 12/100\n",
      "23/23 [==============================] - 2s 98ms/step - loss: 3.0299 - accuracy: 0.3800 - val_loss: 3.8550 - val_accuracy: 0.1913\n",
      "Epoch 13/100\n",
      "23/23 [==============================] - 2s 96ms/step - loss: 2.6931 - accuracy: 0.4595 - val_loss: 3.5347 - val_accuracy: 0.2787\n",
      "Epoch 14/100\n",
      "23/23 [==============================] - 2s 99ms/step - loss: 2.3953 - accuracy: 0.5103 - val_loss: 3.3938 - val_accuracy: 0.3224\n",
      "Epoch 15/100\n",
      "23/23 [==============================] - 2s 100ms/step - loss: 2.1571 - accuracy: 0.5706 - val_loss: 3.2524 - val_accuracy: 0.3279\n",
      "Epoch 16/100\n",
      "23/23 [==============================] - 2s 96ms/step - loss: 1.9037 - accuracy: 0.6283 - val_loss: 3.0995 - val_accuracy: 0.3880\n",
      "Epoch 17/100\n",
      "23/23 [==============================] - 2s 94ms/step - loss: 1.7023 - accuracy: 0.6667 - val_loss: 3.0028 - val_accuracy: 0.3770\n",
      "Epoch 18/100\n",
      "23/23 [==============================] - 2s 91ms/step - loss: 1.5219 - accuracy: 0.6886 - val_loss: 2.8093 - val_accuracy: 0.4262\n",
      "Epoch 19/100\n",
      "23/23 [==============================] - 2s 89ms/step - loss: 1.3781 - accuracy: 0.7407 - val_loss: 2.7390 - val_accuracy: 0.4262\n",
      "Epoch 20/100\n",
      "23/23 [==============================] - 2s 89ms/step - loss: 1.2478 - accuracy: 0.7668 - val_loss: 2.6724 - val_accuracy: 0.4426\n",
      "Epoch 21/100\n",
      "23/23 [==============================] - 2s 89ms/step - loss: 1.1146 - accuracy: 0.7997 - val_loss: 2.6670 - val_accuracy: 0.4699\n",
      "Epoch 22/100\n",
      "23/23 [==============================] - 2s 91ms/step - loss: 1.0273 - accuracy: 0.8080 - val_loss: 2.6763 - val_accuracy: 0.4317\n",
      "Epoch 23/100\n",
      "23/23 [==============================] - 2s 101ms/step - loss: 0.9160 - accuracy: 0.8505 - val_loss: 2.5866 - val_accuracy: 0.4699\n",
      "Epoch 24/100\n",
      "23/23 [==============================] - 2s 95ms/step - loss: 0.8372 - accuracy: 0.8601 - val_loss: 2.4879 - val_accuracy: 0.4863\n",
      "Epoch 25/100\n",
      "23/23 [==============================] - 2s 94ms/step - loss: 0.7469 - accuracy: 0.8848 - val_loss: 2.5116 - val_accuracy: 0.4863\n",
      "Epoch 26/100\n",
      "23/23 [==============================] - 2s 94ms/step - loss: 0.6959 - accuracy: 0.8738 - val_loss: 2.4596 - val_accuracy: 0.5027\n",
      "Epoch 27/100\n",
      "23/23 [==============================] - 2s 94ms/step - loss: 0.6343 - accuracy: 0.9012 - val_loss: 2.5159 - val_accuracy: 0.4754\n",
      "Epoch 28/100\n",
      "23/23 [==============================] - 2s 95ms/step - loss: 0.5790 - accuracy: 0.9026 - val_loss: 2.4773 - val_accuracy: 0.4809\n",
      "Epoch 29/100\n",
      "23/23 [==============================] - 2s 94ms/step - loss: 0.5566 - accuracy: 0.9163 - val_loss: 2.5049 - val_accuracy: 0.5082\n",
      "Epoch 30/100\n",
      "23/23 [==============================] - 2s 92ms/step - loss: 0.5020 - accuracy: 0.9259 - val_loss: 2.5180 - val_accuracy: 0.5082\n",
      "Epoch 31/100\n",
      "23/23 [==============================] - 2s 91ms/step - loss: 0.4660 - accuracy: 0.9314 - val_loss: 2.4424 - val_accuracy: 0.5027\n",
      "Epoch 32/100\n",
      "23/23 [==============================] - 2s 90ms/step - loss: 0.4257 - accuracy: 0.9342 - val_loss: 2.4359 - val_accuracy: 0.4863\n",
      "Epoch 33/100\n",
      "23/23 [==============================] - 2s 92ms/step - loss: 0.4084 - accuracy: 0.9355 - val_loss: 2.4357 - val_accuracy: 0.4973\n",
      "Epoch 34/100\n",
      "23/23 [==============================] - 2s 91ms/step - loss: 0.3807 - accuracy: 0.9383 - val_loss: 2.4677 - val_accuracy: 0.5027\n",
      "Epoch 35/100\n",
      "23/23 [==============================] - 2s 89ms/step - loss: 0.3575 - accuracy: 0.9465 - val_loss: 2.4488 - val_accuracy: 0.4973\n",
      "Epoch 36/100\n",
      "23/23 [==============================] - 2s 91ms/step - loss: 0.3398 - accuracy: 0.9479 - val_loss: 2.4538 - val_accuracy: 0.5082\n",
      "Epoch 37/100\n",
      "23/23 [==============================] - 2s 89ms/step - loss: 0.3199 - accuracy: 0.9424 - val_loss: 2.4259 - val_accuracy: 0.4973\n",
      "Epoch 38/100\n",
      "23/23 [==============================] - 2s 94ms/step - loss: 0.3171 - accuracy: 0.9410 - val_loss: 2.4512 - val_accuracy: 0.5027\n",
      "Epoch 39/100\n",
      "23/23 [==============================] - 3s 110ms/step - loss: 0.3021 - accuracy: 0.9396 - val_loss: 2.4421 - val_accuracy: 0.5191\n",
      "Epoch 40/100\n",
      "23/23 [==============================] - 3s 110ms/step - loss: 0.2785 - accuracy: 0.9438 - val_loss: 2.4647 - val_accuracy: 0.5082\n",
      "Epoch 41/100\n",
      "23/23 [==============================] - 2s 103ms/step - loss: 0.2732 - accuracy: 0.9506 - val_loss: 2.4557 - val_accuracy: 0.5137\n",
      "Epoch 42/100\n",
      "23/23 [==============================] - 2s 98ms/step - loss: 0.2634 - accuracy: 0.9534 - val_loss: 2.4947 - val_accuracy: 0.5082\n",
      "Epoch 43/100\n",
      "23/23 [==============================] - 3s 118ms/step - loss: 0.2571 - accuracy: 0.9465 - val_loss: 2.4782 - val_accuracy: 0.5027\n",
      "Epoch 44/100\n",
      "23/23 [==============================] - 2s 99ms/step - loss: 0.2540 - accuracy: 0.9547 - val_loss: 2.4921 - val_accuracy: 0.5137\n",
      "Epoch 45/100\n",
      "23/23 [==============================] - 2s 96ms/step - loss: 0.2400 - accuracy: 0.9479 - val_loss: 2.4773 - val_accuracy: 0.5191\n",
      "Epoch 46/100\n",
      "23/23 [==============================] - 2s 100ms/step - loss: 0.2363 - accuracy: 0.9465 - val_loss: 2.4898 - val_accuracy: 0.5082\n",
      "Epoch 47/100\n",
      "23/23 [==============================] - 3s 121ms/step - loss: 0.2268 - accuracy: 0.9451 - val_loss: 2.4693 - val_accuracy: 0.5082\n",
      "Epoch 48/100\n",
      "23/23 [==============================] - 2s 107ms/step - loss: 0.2241 - accuracy: 0.9534 - val_loss: 2.4836 - val_accuracy: 0.5082\n",
      "Epoch 49/100\n",
      "23/23 [==============================] - 3s 112ms/step - loss: 0.2178 - accuracy: 0.9438 - val_loss: 2.4721 - val_accuracy: 0.5082\n",
      "Epoch 50/100\n",
      "23/23 [==============================] - 3s 113ms/step - loss: 0.2214 - accuracy: 0.9492 - val_loss: 2.4668 - val_accuracy: 0.5137\n",
      "Epoch 51/100\n",
      "23/23 [==============================] - 3s 126ms/step - loss: 0.2152 - accuracy: 0.9479 - val_loss: 2.5094 - val_accuracy: 0.5082\n",
      "Epoch 52/100\n",
      "23/23 [==============================] - 2s 94ms/step - loss: 0.2058 - accuracy: 0.9506 - val_loss: 2.5034 - val_accuracy: 0.5191\n",
      "Epoch 53/100\n",
      "23/23 [==============================] - 2s 93ms/step - loss: 0.2024 - accuracy: 0.9520 - val_loss: 2.4910 - val_accuracy: 0.5191\n",
      "Epoch 54/100\n",
      "23/23 [==============================] - 2s 90ms/step - loss: 0.1938 - accuracy: 0.9465 - val_loss: 2.5157 - val_accuracy: 0.5137\n",
      "Epoch 55/100\n",
      "23/23 [==============================] - 2s 93ms/step - loss: 0.1977 - accuracy: 0.9506 - val_loss: 2.5236 - val_accuracy: 0.5191\n",
      "Epoch 56/100\n",
      "23/23 [==============================] - 2s 91ms/step - loss: 0.1935 - accuracy: 0.9479 - val_loss: 2.5277 - val_accuracy: 0.5246\n",
      "Epoch 57/100\n",
      "23/23 [==============================] - 2s 89ms/step - loss: 0.1874 - accuracy: 0.9465 - val_loss: 2.5513 - val_accuracy: 0.5301\n",
      "Epoch 58/100\n",
      "23/23 [==============================] - 2s 91ms/step - loss: 0.1895 - accuracy: 0.9534 - val_loss: 2.5630 - val_accuracy: 0.5246\n",
      "Epoch 59/100\n",
      "23/23 [==============================] - 2s 90ms/step - loss: 0.1843 - accuracy: 0.9479 - val_loss: 2.5690 - val_accuracy: 0.5191\n",
      "Epoch 60/100\n",
      "23/23 [==============================] - 2s 98ms/step - loss: 0.1796 - accuracy: 0.9479 - val_loss: 2.5649 - val_accuracy: 0.5137\n",
      "Epoch 61/100\n",
      "23/23 [==============================] - 2s 90ms/step - loss: 0.1816 - accuracy: 0.9506 - val_loss: 2.5762 - val_accuracy: 0.5191\n",
      "Epoch 62/100\n",
      "23/23 [==============================] - 2s 91ms/step - loss: 0.1663 - accuracy: 0.9561 - val_loss: 2.5708 - val_accuracy: 0.5191\n",
      "Epoch 63/100\n",
      "23/23 [==============================] - 2s 90ms/step - loss: 0.1776 - accuracy: 0.9547 - val_loss: 2.5613 - val_accuracy: 0.5246\n",
      "Epoch 64/100\n",
      "23/23 [==============================] - 2s 91ms/step - loss: 0.1733 - accuracy: 0.9506 - val_loss: 2.5729 - val_accuracy: 0.5246\n",
      "Epoch 65/100\n",
      "23/23 [==============================] - 2s 99ms/step - loss: 0.1743 - accuracy: 0.9492 - val_loss: 2.5996 - val_accuracy: 0.5191\n",
      "Epoch 66/100\n",
      "23/23 [==============================] - 2s 107ms/step - loss: 0.1711 - accuracy: 0.9506 - val_loss: 2.5670 - val_accuracy: 0.5191\n",
      "Epoch 67/100\n",
      "23/23 [==============================] - 3s 115ms/step - loss: 0.1690 - accuracy: 0.9479 - val_loss: 2.5819 - val_accuracy: 0.5191\n",
      "Epoch 68/100\n",
      "23/23 [==============================] - 3s 114ms/step - loss: 0.1739 - accuracy: 0.9506 - val_loss: 2.5883 - val_accuracy: 0.5246\n",
      "Epoch 69/100\n",
      "23/23 [==============================] - 3s 120ms/step - loss: 0.1759 - accuracy: 0.9410 - val_loss: 2.5843 - val_accuracy: 0.5137\n",
      "Epoch 70/100\n",
      "23/23 [==============================] - 3s 113ms/step - loss: 0.1668 - accuracy: 0.9520 - val_loss: 2.6080 - val_accuracy: 0.5191\n",
      "Epoch 71/100\n",
      "23/23 [==============================] - 2s 100ms/step - loss: 0.1603 - accuracy: 0.9506 - val_loss: 2.6244 - val_accuracy: 0.5191\n",
      "Epoch 72/100\n",
      "23/23 [==============================] - 2s 95ms/step - loss: 0.1694 - accuracy: 0.9506 - val_loss: 2.5880 - val_accuracy: 0.5301\n",
      "Epoch 73/100\n",
      "23/23 [==============================] - 2s 94ms/step - loss: 0.1667 - accuracy: 0.9506 - val_loss: 2.5965 - val_accuracy: 0.5246\n",
      "Epoch 74/100\n",
      "23/23 [==============================] - 2s 92ms/step - loss: 0.1541 - accuracy: 0.9547 - val_loss: 2.6064 - val_accuracy: 0.5246\n",
      "Epoch 75/100\n",
      "23/23 [==============================] - 2s 100ms/step - loss: 0.1595 - accuracy: 0.9465 - val_loss: 2.6074 - val_accuracy: 0.5246\n",
      "Epoch 76/100\n",
      "23/23 [==============================] - 2s 93ms/step - loss: 0.1541 - accuracy: 0.9520 - val_loss: 2.6135 - val_accuracy: 0.5137\n",
      "Epoch 77/100\n",
      "23/23 [==============================] - 2s 98ms/step - loss: 0.1547 - accuracy: 0.9547 - val_loss: 2.6274 - val_accuracy: 0.5191\n",
      "Epoch 78/100\n",
      "23/23 [==============================] - 2s 98ms/step - loss: 0.1535 - accuracy: 0.9506 - val_loss: 2.6509 - val_accuracy: 0.5191\n",
      "Epoch 79/100\n",
      "23/23 [==============================] - 2s 95ms/step - loss: 0.1540 - accuracy: 0.9534 - val_loss: 2.6459 - val_accuracy: 0.5137\n",
      "Epoch 80/100\n",
      "23/23 [==============================] - 2s 93ms/step - loss: 0.1553 - accuracy: 0.9534 - val_loss: 2.6652 - val_accuracy: 0.5191\n",
      "Epoch 81/100\n",
      "23/23 [==============================] - 2s 97ms/step - loss: 0.1611 - accuracy: 0.9451 - val_loss: 2.6603 - val_accuracy: 0.5191\n",
      "Epoch 82/100\n",
      "23/23 [==============================] - 2s 98ms/step - loss: 0.1486 - accuracy: 0.9492 - val_loss: 2.6612 - val_accuracy: 0.5191\n",
      "Epoch 83/100\n",
      "23/23 [==============================] - 2s 88ms/step - loss: 0.1518 - accuracy: 0.9547 - val_loss: 2.6707 - val_accuracy: 0.5191\n",
      "Epoch 84/100\n",
      "23/23 [==============================] - 2s 90ms/step - loss: 0.1497 - accuracy: 0.9520 - val_loss: 2.6731 - val_accuracy: 0.5191\n",
      "Epoch 85/100\n",
      "23/23 [==============================] - 2s 91ms/step - loss: 0.1519 - accuracy: 0.9465 - val_loss: 2.6892 - val_accuracy: 0.5191\n",
      "Epoch 86/100\n",
      "23/23 [==============================] - 2s 95ms/step - loss: 0.1528 - accuracy: 0.9451 - val_loss: 2.6412 - val_accuracy: 0.5191\n",
      "Epoch 87/100\n",
      "23/23 [==============================] - 2s 90ms/step - loss: 0.1505 - accuracy: 0.9520 - val_loss: 2.6253 - val_accuracy: 0.5191\n",
      "Epoch 88/100\n",
      "23/23 [==============================] - 2s 94ms/step - loss: 0.1508 - accuracy: 0.9506 - val_loss: 2.6684 - val_accuracy: 0.5191\n",
      "Epoch 89/100\n",
      "23/23 [==============================] - 2s 91ms/step - loss: 0.1464 - accuracy: 0.9492 - val_loss: 2.6914 - val_accuracy: 0.5191\n",
      "Epoch 90/100\n",
      "23/23 [==============================] - 2s 92ms/step - loss: 0.1477 - accuracy: 0.9534 - val_loss: 2.6412 - val_accuracy: 0.5191\n",
      "Epoch 91/100\n",
      "23/23 [==============================] - 2s 88ms/step - loss: 0.1456 - accuracy: 0.9520 - val_loss: 2.6832 - val_accuracy: 0.5191\n",
      "Epoch 92/100\n",
      "23/23 [==============================] - 2s 94ms/step - loss: 0.1429 - accuracy: 0.9534 - val_loss: 2.6594 - val_accuracy: 0.5191\n",
      "Epoch 93/100\n",
      "23/23 [==============================] - 2s 93ms/step - loss: 0.1455 - accuracy: 0.9451 - val_loss: 2.6895 - val_accuracy: 0.5191\n",
      "Epoch 94/100\n",
      "23/23 [==============================] - 2s 94ms/step - loss: 0.1418 - accuracy: 0.9520 - val_loss: 2.6604 - val_accuracy: 0.5191\n",
      "Epoch 95/100\n",
      "23/23 [==============================] - 2s 93ms/step - loss: 0.1468 - accuracy: 0.9520 - val_loss: 2.6563 - val_accuracy: 0.5191\n",
      "Epoch 96/100\n",
      "23/23 [==============================] - 2s 89ms/step - loss: 0.1457 - accuracy: 0.9520 - val_loss: 2.6528 - val_accuracy: 0.5191\n",
      "Epoch 97/100\n",
      "23/23 [==============================] - 2s 87ms/step - loss: 0.1485 - accuracy: 0.9451 - val_loss: 2.6600 - val_accuracy: 0.5191\n",
      "Epoch 98/100\n",
      "23/23 [==============================] - 2s 95ms/step - loss: 0.1449 - accuracy: 0.9438 - val_loss: 2.6555 - val_accuracy: 0.5191\n",
      "Epoch 99/100\n",
      "23/23 [==============================] - 2s 89ms/step - loss: 0.1489 - accuracy: 0.9520 - val_loss: 2.6818 - val_accuracy: 0.5246\n",
      "Epoch 100/100\n",
      "23/23 [==============================] - 2s 88ms/step - loss: 0.1407 - accuracy: 0.9534 - val_loss: 2.6673 - val_accuracy: 0.5246\n"
     ]
    }
   ],
   "source": [
    "history = model.fit(x_train, y_train, epochs=100, batch_size=32, validation_data=(x_test, y_test))"
   ]
  },
  {
   "cell_type": "markdown",
   "metadata": {},
   "source": [
    "### plot akurasi"
   ]
  },
  {
   "cell_type": "code",
   "execution_count": 7,
   "metadata": {},
   "outputs": [
    {
     "data": {
      "image/png": "[encoded data removed]",
      "text/plain": [
       "<Figure size 640x480 with 1 Axes>"
      ]
     },
     "metadata": {},
     "output_type": "display_data"
    },
    {
     "data": {
      "image/png": "[encoded data removed]",
      "text/plain": [
       "<Figure size 640x480 with 1 Axes>"
      ]
     },
     "metadata": {},
     "output_type": "display_data"
    },
    {
     "data": {
      "image/png": "[encoded data removed]",
      "text/plain": [
       "<Figure size 640x480 with 1 Axes>"
      ]
     },
     "metadata": {},
     "output_type": "display_data"
    },
    {
     "data": {
      "image/png": "[encoded data removed]",
      "text/plain": [
       "<Figure size 640x480 with 1 Axes>"
      ]
     },
     "metadata": {},
     "output_type": "display_data"
    }
   ],
   "source": [
    "import matplotlib.pyplot as plt\n",
    "\n",
    "\n",
    "plt.plot(history.history['accuracy'])\n",
    "plt.plot(history.history['val_accuracy'])\n",
    "plt.title('model accuracy')\n",
    "plt.ylabel('accuracy')\n",
    "plt.xlabel('epoch')\n",
    "plt.legend(['train', 'valid'], loc='upper right')\n",
    "plt.show()\n",
    "\n",
    "plt.plot(history.history['loss'])\n",
    "plt.plot(history.history['val_loss'])\n",
    "plt.title('model loss')\n",
    "plt.ylabel('loss')\n",
    "plt.xlabel('epoch')\n",
    "plt.legend(['train', 'valid'], loc='upper right')\n",
    "plt.show()"
   ]
  },
  {
   "cell_type": "code",
   "execution_count": 8,
   "metadata": {},
   "outputs": [],
   "source": [
    "from fuzzywuzzy import fuzz\n",
    "from nltk.corpus import stopwords\n",
    "from nltk.tokenize import word_tokenize\n",
    "import re\n",
    "import string\n",
    "\n",
    "# Load stopwords from file\n",
    "with open('stopword_id.txt', 'r', encoding='utf-8') as stopword_file:\n",
    "    stop_words = stopword_file.read().splitlines()\n",
    "\n",
    "# Load normalization rules from file\n",
    "with open('normalization.txt', 'r', encoding='utf-8') as normalization_file:\n",
    "    normalization_rules = dict(line.strip().split('\\t') for line in normalization_file)\n",
    "\n",
    "# Load slangword definitions from file\n",
    "with open('slangword.txt', 'r', encoding='utf-8') as slangword_file:\n",
    "    slangword_definitions = dict(line.strip().split(':') for line in slangword_file)\n",
    "\n",
    "\n",
    "def preprocess_input(user_input):\n",
    "    # Convert to lowercase\n",
    "    user_input = user_input.lower()\n",
    "\n",
    "    # Remove characters not in [a-zA-Z0-9\\s]\n",
    "    user_input = user_input.lower()\n",
    "    user_input = re.sub(r'[.,’\"\\'-?:!;]', '', user_input)\n",
    "\n",
    "    # Normalize using rules from normalization.txt\n",
    "    for key, value in normalization_rules.items():\n",
    "        user_input = user_input.replace(key, value)\n",
    "    \n",
    "    # Replace slangwords with their definitions\n",
    "    for key, value in slangword_definitions.items():\n",
    "        user_input = user_input.replace(key, value)\n",
    "\n",
    "    # Remove punctuation\n",
    "    user_input = user_input.translate(str.maketrans(\"\", \"\", string.punctuation))\n",
    "\n",
    "    # Tokenize the input\n",
    "    words = word_tokenize(user_input)\n",
    "\n",
    "    # Remove stopwords\n",
    "    words = [word for word in words if word not in stop_words]\n",
    "\n",
    "    # Correct typos using fuzzy matching\n",
    "    corrected_words = []\n",
    "    for word in words:\n",
    "        max_similarity = 0\n",
    "        corrected_word = word\n",
    "\n",
    "        for reference_word in stop_words:\n",
    "            similarity = fuzz.ratio(word, reference_word)\n",
    "            if similarity > max_similarity:\n",
    "                max_similarity = similarity\n",
    "                corrected_word = reference_word\n",
    "\n",
    "        corrected_words.append(corrected_word)\n",
    "\n",
    "    # Join the corrected words\n",
    "    preprocessed_text = ' '.join(corrected_words)\n",
    "\n",
    "    # Remove extra whitespaces\n",
    "    preprocessed_text = re.sub(' +', ' ', preprocessed_text)\n",
    "\n",
    "    return preprocessed_text"
   ]
  },
  {
   "cell_type": "markdown",
   "metadata": {},
   "source": [
    "### check output "
   ]
  },
  {
   "cell_type": "code",
   "execution_count": 9,
   "metadata": {},
   "outputs": [
    {
     "name": "stderr",
     "output_type": "stream",
     "text": [
      "c:\\Users\\nurul\\anaconda3\\envs\\cnn\\lib\\site-packages\\fuzzywuzzy\\fuzz.py:11: UserWarning: Using slow pure-python SequenceMatcher. Install python-Levenshtein to remove this warning\n",
      "  warnings.warn('Using slow pure-python SequenceMatcher. Install python-Levenshtein to remove this warning')\n"
     ]
    },
    {
     "name": "stdout",
     "output_type": "stream",
     "text": [
      "1/1 [==============================] - 0s 386ms/step\n"
     ]
    },
    {
     "name": "stderr",
     "output_type": "stream",
     "text": [
      "c:\\Users\\nurul\\anaconda3\\envs\\cnn\\lib\\site-packages\\sklearn\\preprocessing\\_label.py:153: DataConversionWarning: A column-vector y was passed when a 1d array was expected. Please change the shape of y to (n_samples, ), for example using ravel().\n",
      "  y = column_or_1d(y, warn=True)\n"
     ]
    },
    {
     "name": "stdout",
     "output_type": "stream",
     "text": [
      "tags: agent.acquaintance\n",
      "Chatbot: Saya adalah feminicare\n",
      "1/1 [==============================] - 0s 22ms/step\n"
     ]
    },
    {
     "name": "stderr",
     "output_type": "stream",
     "text": [
      "c:\\Users\\nurul\\anaconda3\\envs\\cnn\\lib\\site-packages\\sklearn\\preprocessing\\_label.py:153: DataConversionWarning: A column-vector y was passed when a 1d array was expected. Please change the shape of y to (n_samples, ), for example using ravel().\n",
      "  y = column_or_1d(y, warn=True)\n"
     ]
    },
    {
     "name": "stdout",
     "output_type": "stream",
     "text": [
      "tags: perawatan_diri_selama_menstruasi\n",
      "Chatbot: Untuk merawat diri selama menstruasi dengan baik, Anda dapat mengambil langkah-langkah seperti merencanakan waktu istirahat ekstra, menggunakan metode penghilang nyeri seperti panas atau pijatan perut, dan menjaga kebersihan diri dengan mengganti pembalut atau alat menstruasi sesuai kebutuhan. Selain itu, perhatikan pola makan yang sehat dan hindari makanan yang dapat memperburuk gejala menstruasi.\n",
      "1/1 [==============================] - 0s 22ms/step\n"
     ]
    },
    {
     "name": "stderr",
     "output_type": "stream",
     "text": [
      "c:\\Users\\nurul\\anaconda3\\envs\\cnn\\lib\\site-packages\\sklearn\\preprocessing\\_label.py:153: DataConversionWarning: A column-vector y was passed when a 1d array was expected. Please change the shape of y to (n_samples, ), for example using ravel().\n",
      "  y = column_or_1d(y, warn=True)\n"
     ]
    },
    {
     "name": "stdout",
     "output_type": "stream",
     "text": [
      "tags: perawatan_diri_selama_menstruasi\n",
      "Chatbot: Untuk merawat diri selama menstruasi dengan baik, Anda dapat mengambil langkah-langkah seperti merencanakan waktu istirahat ekstra, menggunakan metode penghilang nyeri seperti panas atau pijatan perut, dan menjaga kebersihan diri dengan mengganti pembalut atau alat menstruasi sesuai kebutuhan. Selain itu, perhatikan pola makan yang sehat dan hindari makanan yang dapat memperburuk gejala menstruasi.\n",
      "1/1 [==============================] - 0s 44ms/step\n"
     ]
    },
    {
     "name": "stderr",
     "output_type": "stream",
     "text": [
      "c:\\Users\\nurul\\anaconda3\\envs\\cnn\\lib\\site-packages\\sklearn\\preprocessing\\_label.py:153: DataConversionWarning: A column-vector y was passed when a 1d array was expected. Please change the shape of y to (n_samples, ), for example using ravel().\n",
      "  y = column_or_1d(y, warn=True)\n"
     ]
    },
    {
     "name": "stdout",
     "output_type": "stream",
     "text": [
      "tags: agent.acquaintance\n",
      "Chatbot:  Saya adalah aplikasi percakapan \n",
      "1/1 [==============================] - 0s 22ms/step\n"
     ]
    },
    {
     "name": "stderr",
     "output_type": "stream",
     "text": [
      "c:\\Users\\nurul\\anaconda3\\envs\\cnn\\lib\\site-packages\\sklearn\\preprocessing\\_label.py:153: DataConversionWarning: A column-vector y was passed when a 1d array was expected. Please change the shape of y to (n_samples, ), for example using ravel().\n",
      "  y = column_or_1d(y, warn=True)\n"
     ]
    },
    {
     "name": "stdout",
     "output_type": "stream",
     "text": [
      "tags: greetings.bye\n",
      "Chatbot: sampai jumpa lagi!\n"
     ]
    }
   ],
   "source": [
    "import random\n",
    "from fuzzywuzzy import fuzz\n",
    "\n",
    "\n",
    "while True:\n",
    "    user_input = input('You: ')\n",
    "    preprocessed_text = preprocess_input(user_input)\n",
    "    if preprocessed_text.lower() == 'goodbye':\n",
    "        print(\"Chatbot: Goodbye!\")\n",
    "        break\n",
    "    try:\n",
    "        input_seq = tokenizer.texts_to_sequences([preprocessed_text])\n",
    "        input_seq = pad_sequences(input_seq, maxlen=input_shape)\n",
    "        predicted_label_seq = model.predict(input_seq)\n",
    "        predicted_label = label_encoder.inverse_transform([predicted_label_seq.argmax(axis=-1)])[0]\n",
    "        # print(\"tags:\", predicted_label)\n",
    "\n",
    "        # Pilih respons dari kategori tag\n",
    "        responses_for_tag = responses.get(predicted_label, [\"Chatbot: Maaf, saya tidak memahami maksud Anda.\"])\n",
    "        response = random.choice(responses_for_tag)\n",
    "        \n",
    "        print(\"Chatbot:\", response)\n",
    "    except:\n",
    "        print(\"Chatbot: Maaf, saya tidak memahami maksud Anda.\")\n"
   ]
  }
 ],
 "metadata": {
  "kernelspec": {
   "display_name": "cnn",
   "language": "python",
   "name": "python3"
  },
  "language_info": {
   "codemirror_mode": {
    "name": "ipython",
    "version": 3
   },
   "file_extension": ".py",
   "mimetype": "text/x-python",
   "name": "python",
   "nbconvert_exporter": "python",
   "pygments_lexer": "ipython3",
   "version": "3.10.12"
  }
 },
 "nbformat": 4,
 "nbformat_minor": 2
}
