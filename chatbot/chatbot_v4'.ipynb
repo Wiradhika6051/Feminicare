{
 "cells": [
  {
   "cell_type": "markdown",
   "metadata": {},
   "source": [
    "## Chatbot"
   ]
  },
  {
   "cell_type": "markdown",
   "metadata": {},
   "source": [
    "### Input library"
   ]
  },
  {
   "cell_type": "code",
   "execution_count": 1,
   "metadata": {},
   "outputs": [],
   "source": [
    "from nltk.stem import PorterStemmer \n",
    "import string\n",
    "import numpy as np\n",
    "import tensorflow as tf\n",
    "from tensorflow.keras.models import Sequential\n",
    "\n"
   ]
  },
  {
   "cell_type": "markdown",
   "metadata": {},
   "source": [
    "### load dataset dan preparation"
   ]
  },
  {
   "cell_type": "code",
   "execution_count": 3,
   "metadata": {},
   "outputs": [],
   "source": [
    "import re\n",
    "import json\n",
    "import nltk\n",
    "from nltk.stem import WordNetLemmatizer\n",
    "import pandas as pd\n",
    "\n",
    "with open('dataset3.json') as f:\n",
    "    data = json.load(f)\n",
    "\n",
    "# Load the additional corpus from corpus.json\n",
    "with open('dataset/corpus/id/agent.json') as f:\n",
    "    agent = json.load(f)\n",
    "\n",
    "with open('dataset/corpus/id/dialog.json') as f:\n",
    "    dialog = json.load(f)\n",
    "\n",
    "with open('dataset/corpus/id/motivasi.json') as f:\n",
    "    motivation = json.load(f)\n",
    "\n",
    "with open('dataset/corpus/id/None.json') as f:\n",
    "    none = json.load(f)\n",
    "\n",
    "with open('dataset/corpus/id/user.json') as f:\n",
    "    user = json.load(f)\n",
    "\n",
    "\n",
    "\n",
    "# Append the corpus data to the existing data\n",
    "data['intents'].extend(agent)\n",
    "data['intents'].extend(dialog)\n",
    "data['intents'].extend(motivation)\n",
    "data['intents'].extend(none)\n",
    "data['intents'].extend(user)\n",
    "\n",
    "\n",
    "stop_words = set()\n",
    "\n",
    "with open('stopword_id.txt', 'r', encoding='utf-8') as file:\n",
    "    for line in file:\n",
    "        stop_words.add(line.strip())\n",
    "\n",
    "tags = []\n",
    "inputs = []\n",
    "responses = {}\n",
    "lemmatizer = WordNetLemmatizer()\n",
    "\n",
    "for intent in data['intents']:\n",
    "    responses[intent['tag']] = intent['responses']\n",
    "    for line in intent['patterns']:\n",
    "        # Prapemrosesan teks\n",
    "        line = re.sub('[^a-zA-Z0-9\\s]', '', line)\n",
    "        line = re.sub(r'[.,’\"\\'-?:!;]', '', line)\n",
    "        line = re.sub(r'^Apa|^Saya|^Aku|^maukah|^Siapa|^Bagaimana|^Dimana|^Kapan|^Kenapa|^Bisakah', '', line)\n",
    "        \n",
    "        # Tokenize each word in the pattern\n",
    "        w = nltk.word_tokenize(line)\n",
    "        w = [lemmatizer.lemmatize(word.lower()) for word in w if word not in stop_words]\n",
    "        inputs.append(' '.join(w))\n",
    "        tags.append(intent['tag'])\n",
    "\n",
    "# Create a DataFrame\n",
    "data_df = pd.DataFrame({\"inputs\": inputs, \"tags\": tags})\n"
   ]
  },
  {
   "cell_type": "markdown",
   "metadata": {},
   "source": [
    "### print dataset setelah preparation"
   ]
  },
  {
   "cell_type": "code",
   "execution_count": 4,
   "metadata": {},
   "outputs": [
    {
     "name": "stdout",
     "output_type": "stream",
     "text": [
      "                     inputs                    tags\n",
      "0                feminicare      tentang_feminicare\n",
      "1                feminicare      tentang_feminicare\n",
      "2    definisikan feminicare      tentang_feminicare\n",
      "3                feminicare      tentang_feminicare\n",
      "4                feminicare      tentang_feminicare\n",
      "..                      ...                     ...\n",
      "910                 lakukan        user.needsadvice\n",
      "911                          user.permission_to_ask\n",
      "912                          user.permission_to_ask\n",
      "913                          user.permission_to_ask\n",
      "914                   nanya  user.permission_to_ask\n",
      "\n",
      "[915 rows x 2 columns]\n"
     ]
    }
   ],
   "source": [
    "print(data_df)"
   ]
  },
  {
   "cell_type": "markdown",
   "metadata": {},
   "source": [
    "### preprocessing"
   ]
  },
  {
   "cell_type": "code",
   "execution_count": 5,
   "metadata": {},
   "outputs": [],
   "source": [
    "from sklearn.model_selection import train_test_split\n",
    "from tensorflow.keras.preprocessing.text import Tokenizer\n",
    "from tensorflow.keras.preprocessing.sequence import pad_sequences\n",
    "from sklearn.preprocessing import LabelEncoder\n",
    "\n",
    "# Tokenizer\n",
    "tokenizer = Tokenizer(num_words=2000, oov_token='<OOV>')\n",
    "tokenizer.fit_on_texts(data_df['inputs'])\n",
    "\n",
    "# Encode the outputs\n",
    "label_encoder = LabelEncoder()\n",
    "y_train = label_encoder.fit_transform(data_df['tags'])\n",
    "\n",
    "# Define input shape\n",
    "input_shape = 100  # Misalkan panjang maksimum input adalah 100 kata\n",
    "\n",
    "# Padding sequences\n",
    "sequences = tokenizer.texts_to_sequences(data_df['inputs'])\n",
    "x_train = pad_sequences(sequences, maxlen=input_shape, truncating='post')\n",
    "\n",
    "# Split the data into training and testing sets\n",
    "x_train, x_test, y_train, y_test = train_test_split(x_train, y_train, test_size=0.2, random_state=42)\n"
   ]
  },
  {
   "cell_type": "markdown",
   "metadata": {},
   "source": [
    "### inisialisasi layer"
   ]
  },
  {
   "cell_type": "code",
   "execution_count": 6,
   "metadata": {},
   "outputs": [],
   "source": [
    "model = Sequential([\n",
    "    tf.keras.layers.Embedding(len(tokenizer.word_index)+1, 64, input_length=100),\n",
    "    tf.keras.layers.LSTM(64, return_sequences=True),\n",
    "    tf.keras.layers.Dropout(0.2),  \n",
    "    tf.keras.layers.Flatten(),\n",
    "    tf.keras.layers.Dropout(0.2), \n",
    "    tf.keras.layers.Dense(len(label_encoder.classes_), activation='softmax'),\n",
    "])\n",
    "\n",
    "\n",
    "model.compile(loss='sparse_categorical_crossentropy', optimizer='adam', metrics=['accuracy'])\n",
    "\n"
   ]
  },
  {
   "cell_type": "markdown",
   "metadata": {},
   "source": [
    "### training model"
   ]
  },
  {
   "cell_type": "code",
   "execution_count": 7,
   "metadata": {},
   "outputs": [
    {
     "name": "stdout",
     "output_type": "stream",
     "text": [
      "Epoch 1/100\n",
      "23/23 [==============================] - 3s 77ms/step - loss: 5.4694 - accuracy: 0.0041 - val_loss: 5.4762 - val_accuracy: 0.0000e+00\n",
      "Epoch 2/100\n",
      "23/23 [==============================] - 1s 57ms/step - loss: 5.4165 - accuracy: 0.0096 - val_loss: 5.6826 - val_accuracy: 0.0055\n",
      "Epoch 3/100\n",
      "23/23 [==============================] - 1s 55ms/step - loss: 5.3923 - accuracy: 0.0164 - val_loss: 5.5829 - val_accuracy: 0.0055\n",
      "Epoch 4/100\n",
      "23/23 [==============================] - 1s 57ms/step - loss: 5.3595 - accuracy: 0.0109 - val_loss: 5.5803 - val_accuracy: 0.0055\n",
      "Epoch 5/100\n",
      "23/23 [==============================] - 1s 61ms/step - loss: 5.3273 - accuracy: 0.0164 - val_loss: 5.5385 - val_accuracy: 0.0055\n",
      "Epoch 6/100\n",
      "23/23 [==============================] - 1s 55ms/step - loss: 5.2259 - accuracy: 0.0246 - val_loss: 5.5230 - val_accuracy: 0.0164\n",
      "Epoch 7/100\n",
      "23/23 [==============================] - 1s 56ms/step - loss: 4.9891 - accuracy: 0.0437 - val_loss: 5.2205 - val_accuracy: 0.0383\n",
      "Epoch 8/100\n",
      "23/23 [==============================] - 1s 55ms/step - loss: 4.6453 - accuracy: 0.0820 - val_loss: 4.9535 - val_accuracy: 0.0656\n",
      "Epoch 9/100\n",
      "23/23 [==============================] - 1s 59ms/step - loss: 4.2685 - accuracy: 0.1393 - val_loss: 4.7101 - val_accuracy: 0.0929\n",
      "Epoch 10/100\n",
      "23/23 [==============================] - 1s 61ms/step - loss: 3.8090 - accuracy: 0.1995 - val_loss: 4.2765 - val_accuracy: 0.1530\n",
      "Epoch 11/100\n",
      "23/23 [==============================] - 1s 66ms/step - loss: 3.3798 - accuracy: 0.2869 - val_loss: 3.9861 - val_accuracy: 0.1967\n",
      "Epoch 12/100\n",
      "23/23 [==============================] - 1s 57ms/step - loss: 3.0255 - accuracy: 0.3661 - val_loss: 3.6581 - val_accuracy: 0.2459\n",
      "Epoch 13/100\n",
      "23/23 [==============================] - 1s 58ms/step - loss: 2.6956 - accuracy: 0.4508 - val_loss: 3.4731 - val_accuracy: 0.2732\n",
      "Epoch 14/100\n",
      "23/23 [==============================] - 1s 59ms/step - loss: 2.3842 - accuracy: 0.5137 - val_loss: 3.2372 - val_accuracy: 0.3169\n",
      "Epoch 15/100\n",
      "23/23 [==============================] - 1s 61ms/step - loss: 2.1775 - accuracy: 0.5656 - val_loss: 3.1406 - val_accuracy: 0.3005\n",
      "Epoch 16/100\n",
      "23/23 [==============================] - 2s 66ms/step - loss: 1.9559 - accuracy: 0.6189 - val_loss: 3.0572 - val_accuracy: 0.3333\n",
      "Epoch 17/100\n",
      "23/23 [==============================] - 2s 67ms/step - loss: 1.7570 - accuracy: 0.6598 - val_loss: 2.9283 - val_accuracy: 0.3716\n",
      "Epoch 18/100\n",
      "23/23 [==============================] - 2s 69ms/step - loss: 1.5960 - accuracy: 0.7022 - val_loss: 2.8040 - val_accuracy: 0.3770\n",
      "Epoch 19/100\n",
      "23/23 [==============================] - 2s 70ms/step - loss: 1.4282 - accuracy: 0.7199 - val_loss: 2.6433 - val_accuracy: 0.4153\n",
      "Epoch 20/100\n",
      "23/23 [==============================] - 2s 68ms/step - loss: 1.3003 - accuracy: 0.7555 - val_loss: 2.6936 - val_accuracy: 0.4372\n",
      "Epoch 21/100\n",
      "23/23 [==============================] - 2s 78ms/step - loss: 1.1828 - accuracy: 0.7691 - val_loss: 2.4783 - val_accuracy: 0.4372\n",
      "Epoch 22/100\n",
      "23/23 [==============================] - 2s 77ms/step - loss: 1.0677 - accuracy: 0.8060 - val_loss: 2.4845 - val_accuracy: 0.4699\n",
      "Epoch 23/100\n",
      "23/23 [==============================] - 2s 77ms/step - loss: 0.9693 - accuracy: 0.8361 - val_loss: 2.4948 - val_accuracy: 0.4481\n",
      "Epoch 24/100\n",
      "23/23 [==============================] - 2s 76ms/step - loss: 0.8719 - accuracy: 0.8620 - val_loss: 2.4748 - val_accuracy: 0.4481\n",
      "Epoch 25/100\n",
      "23/23 [==============================] - 2s 73ms/step - loss: 0.8028 - accuracy: 0.8579 - val_loss: 2.3652 - val_accuracy: 0.4699\n",
      "Epoch 26/100\n",
      "23/23 [==============================] - 2s 75ms/step - loss: 0.7321 - accuracy: 0.8948 - val_loss: 2.4261 - val_accuracy: 0.5082\n",
      "Epoch 27/100\n",
      "23/23 [==============================] - 2s 79ms/step - loss: 0.6735 - accuracy: 0.9098 - val_loss: 2.2912 - val_accuracy: 0.5027\n",
      "Epoch 28/100\n",
      "23/23 [==============================] - 2s 77ms/step - loss: 0.6166 - accuracy: 0.9153 - val_loss: 2.3234 - val_accuracy: 0.5082\n",
      "Epoch 29/100\n",
      "23/23 [==============================] - 2s 76ms/step - loss: 0.5711 - accuracy: 0.9153 - val_loss: 2.3136 - val_accuracy: 0.5191\n",
      "Epoch 30/100\n",
      "23/23 [==============================] - 2s 76ms/step - loss: 0.5271 - accuracy: 0.9276 - val_loss: 2.3122 - val_accuracy: 0.5191\n",
      "Epoch 31/100\n",
      "23/23 [==============================] - 2s 74ms/step - loss: 0.4797 - accuracy: 0.9262 - val_loss: 2.2972 - val_accuracy: 0.5301\n",
      "Epoch 32/100\n",
      "23/23 [==============================] - 2s 78ms/step - loss: 0.4645 - accuracy: 0.9290 - val_loss: 2.2556 - val_accuracy: 0.5410\n",
      "Epoch 33/100\n",
      "23/23 [==============================] - 2s 76ms/step - loss: 0.4267 - accuracy: 0.9372 - val_loss: 2.2618 - val_accuracy: 0.5246\n",
      "Epoch 34/100\n",
      "23/23 [==============================] - 2s 78ms/step - loss: 0.4077 - accuracy: 0.9358 - val_loss: 2.2549 - val_accuracy: 0.5301\n",
      "Epoch 35/100\n",
      "23/23 [==============================] - 2s 77ms/step - loss: 0.3745 - accuracy: 0.9467 - val_loss: 2.2338 - val_accuracy: 0.5301\n",
      "Epoch 36/100\n",
      "23/23 [==============================] - 2s 78ms/step - loss: 0.3608 - accuracy: 0.9426 - val_loss: 2.2476 - val_accuracy: 0.5410\n",
      "Epoch 37/100\n",
      "23/23 [==============================] - 2s 77ms/step - loss: 0.3298 - accuracy: 0.9481 - val_loss: 2.2378 - val_accuracy: 0.5519\n",
      "Epoch 38/100\n",
      "23/23 [==============================] - 2s 75ms/step - loss: 0.3252 - accuracy: 0.9454 - val_loss: 2.2155 - val_accuracy: 0.5464\n",
      "Epoch 39/100\n",
      "23/23 [==============================] - 2s 83ms/step - loss: 0.3066 - accuracy: 0.9426 - val_loss: 2.2570 - val_accuracy: 0.5355\n",
      "Epoch 40/100\n",
      "23/23 [==============================] - 2s 79ms/step - loss: 0.2960 - accuracy: 0.9495 - val_loss: 2.2380 - val_accuracy: 0.5464\n",
      "Epoch 41/100\n",
      "23/23 [==============================] - 2s 75ms/step - loss: 0.2816 - accuracy: 0.9454 - val_loss: 2.2200 - val_accuracy: 0.5574\n",
      "Epoch 42/100\n",
      "23/23 [==============================] - 2s 77ms/step - loss: 0.2718 - accuracy: 0.9508 - val_loss: 2.2194 - val_accuracy: 0.5464\n",
      "Epoch 43/100\n",
      "23/23 [==============================] - 2s 78ms/step - loss: 0.2616 - accuracy: 0.9508 - val_loss: 2.2332 - val_accuracy: 0.5574\n",
      "Epoch 44/100\n",
      "23/23 [==============================] - 2s 80ms/step - loss: 0.2517 - accuracy: 0.9495 - val_loss: 2.2325 - val_accuracy: 0.5464\n",
      "Epoch 45/100\n",
      "23/23 [==============================] - 2s 76ms/step - loss: 0.2479 - accuracy: 0.9495 - val_loss: 2.2176 - val_accuracy: 0.5628\n",
      "Epoch 46/100\n",
      "23/23 [==============================] - 2s 75ms/step - loss: 0.2260 - accuracy: 0.9508 - val_loss: 2.2628 - val_accuracy: 0.5574\n",
      "Epoch 47/100\n",
      "23/23 [==============================] - 2s 75ms/step - loss: 0.2322 - accuracy: 0.9508 - val_loss: 2.2239 - val_accuracy: 0.5738\n",
      "Epoch 48/100\n",
      "23/23 [==============================] - 2s 78ms/step - loss: 0.2204 - accuracy: 0.9508 - val_loss: 2.2249 - val_accuracy: 0.5792\n",
      "Epoch 49/100\n",
      "23/23 [==============================] - 2s 78ms/step - loss: 0.2134 - accuracy: 0.9522 - val_loss: 2.2248 - val_accuracy: 0.5738\n",
      "Epoch 50/100\n",
      "23/23 [==============================] - 2s 77ms/step - loss: 0.2081 - accuracy: 0.9522 - val_loss: 2.2720 - val_accuracy: 0.5683\n",
      "Epoch 51/100\n",
      "23/23 [==============================] - 2s 79ms/step - loss: 0.2131 - accuracy: 0.9536 - val_loss: 2.2243 - val_accuracy: 0.5683\n",
      "Epoch 52/100\n",
      "23/23 [==============================] - 2s 76ms/step - loss: 0.1926 - accuracy: 0.9549 - val_loss: 2.2192 - val_accuracy: 0.5683\n",
      "Epoch 53/100\n",
      "23/23 [==============================] - 2s 78ms/step - loss: 0.1942 - accuracy: 0.9563 - val_loss: 2.2476 - val_accuracy: 0.5792\n",
      "Epoch 54/100\n",
      "23/23 [==============================] - 2s 77ms/step - loss: 0.1940 - accuracy: 0.9522 - val_loss: 2.2145 - val_accuracy: 0.5792\n",
      "Epoch 55/100\n",
      "23/23 [==============================] - 2s 76ms/step - loss: 0.1909 - accuracy: 0.9563 - val_loss: 2.2546 - val_accuracy: 0.5792\n",
      "Epoch 56/100\n",
      "23/23 [==============================] - 2s 76ms/step - loss: 0.1904 - accuracy: 0.9522 - val_loss: 2.2514 - val_accuracy: 0.5902\n",
      "Epoch 57/100\n",
      "23/23 [==============================] - 2s 75ms/step - loss: 0.1794 - accuracy: 0.9536 - val_loss: 2.2452 - val_accuracy: 0.5792\n",
      "Epoch 58/100\n",
      "23/23 [==============================] - 2s 79ms/step - loss: 0.1727 - accuracy: 0.9549 - val_loss: 2.2484 - val_accuracy: 0.5792\n",
      "Epoch 59/100\n",
      "23/23 [==============================] - 2s 83ms/step - loss: 0.1818 - accuracy: 0.9508 - val_loss: 2.2332 - val_accuracy: 0.5792\n",
      "Epoch 60/100\n",
      "23/23 [==============================] - 2s 76ms/step - loss: 0.1704 - accuracy: 0.9508 - val_loss: 2.2875 - val_accuracy: 0.5902\n",
      "Epoch 61/100\n",
      "23/23 [==============================] - 2s 76ms/step - loss: 0.1700 - accuracy: 0.9549 - val_loss: 2.2494 - val_accuracy: 0.5847\n",
      "Epoch 62/100\n",
      "23/23 [==============================] - 2s 75ms/step - loss: 0.1694 - accuracy: 0.9522 - val_loss: 2.2831 - val_accuracy: 0.5902\n",
      "Epoch 63/100\n",
      "23/23 [==============================] - 2s 79ms/step - loss: 0.1669 - accuracy: 0.9536 - val_loss: 2.2683 - val_accuracy: 0.5847\n",
      "Epoch 64/100\n",
      "23/23 [==============================] - 2s 72ms/step - loss: 0.1614 - accuracy: 0.9536 - val_loss: 2.2633 - val_accuracy: 0.5902\n",
      "Epoch 65/100\n",
      "23/23 [==============================] - 2s 79ms/step - loss: 0.1606 - accuracy: 0.9577 - val_loss: 2.3283 - val_accuracy: 0.5792\n",
      "Epoch 66/100\n",
      "23/23 [==============================] - 2s 78ms/step - loss: 0.1593 - accuracy: 0.9549 - val_loss: 2.2985 - val_accuracy: 0.5792\n",
      "Epoch 67/100\n",
      "23/23 [==============================] - 2s 74ms/step - loss: 0.1536 - accuracy: 0.9536 - val_loss: 2.2802 - val_accuracy: 0.5792\n",
      "Epoch 68/100\n",
      "23/23 [==============================] - 2s 76ms/step - loss: 0.1563 - accuracy: 0.9577 - val_loss: 2.2926 - val_accuracy: 0.5847\n",
      "Epoch 69/100\n",
      "23/23 [==============================] - 2s 76ms/step - loss: 0.1551 - accuracy: 0.9536 - val_loss: 2.3068 - val_accuracy: 0.5738\n",
      "Epoch 70/100\n",
      "23/23 [==============================] - 2s 76ms/step - loss: 0.1523 - accuracy: 0.9536 - val_loss: 2.3003 - val_accuracy: 0.5792\n",
      "Epoch 71/100\n",
      "23/23 [==============================] - 2s 79ms/step - loss: 0.1577 - accuracy: 0.9508 - val_loss: 2.2603 - val_accuracy: 0.5956\n",
      "Epoch 72/100\n",
      "23/23 [==============================] - 2s 79ms/step - loss: 0.1581 - accuracy: 0.9508 - val_loss: 2.2880 - val_accuracy: 0.6011\n",
      "Epoch 73/100\n",
      "23/23 [==============================] - 2s 74ms/step - loss: 0.1567 - accuracy: 0.9508 - val_loss: 2.3083 - val_accuracy: 0.6011\n",
      "Epoch 74/100\n",
      "23/23 [==============================] - 2s 76ms/step - loss: 0.1530 - accuracy: 0.9481 - val_loss: 2.2664 - val_accuracy: 0.6011\n",
      "Epoch 75/100\n",
      "23/23 [==============================] - 2s 78ms/step - loss: 0.1495 - accuracy: 0.9481 - val_loss: 2.2988 - val_accuracy: 0.5847\n",
      "Epoch 76/100\n",
      "23/23 [==============================] - 2s 76ms/step - loss: 0.1463 - accuracy: 0.9536 - val_loss: 2.3215 - val_accuracy: 0.5847\n",
      "Epoch 77/100\n",
      "23/23 [==============================] - 2s 74ms/step - loss: 0.1463 - accuracy: 0.9508 - val_loss: 2.2982 - val_accuracy: 0.5902\n",
      "Epoch 78/100\n",
      "23/23 [==============================] - 2s 78ms/step - loss: 0.1489 - accuracy: 0.9549 - val_loss: 2.3246 - val_accuracy: 0.5902\n",
      "Epoch 79/100\n",
      "23/23 [==============================] - 2s 77ms/step - loss: 0.1430 - accuracy: 0.9495 - val_loss: 2.3003 - val_accuracy: 0.5738\n",
      "Epoch 80/100\n",
      "23/23 [==============================] - 2s 76ms/step - loss: 0.1437 - accuracy: 0.9522 - val_loss: 2.3388 - val_accuracy: 0.5902\n",
      "Epoch 81/100\n",
      "23/23 [==============================] - 2s 75ms/step - loss: 0.1432 - accuracy: 0.9481 - val_loss: 2.3074 - val_accuracy: 0.5956\n",
      "Epoch 82/100\n",
      "23/23 [==============================] - 2s 78ms/step - loss: 0.1364 - accuracy: 0.9563 - val_loss: 2.3387 - val_accuracy: 0.5956\n",
      "Epoch 83/100\n",
      "23/23 [==============================] - 2s 77ms/step - loss: 0.1387 - accuracy: 0.9522 - val_loss: 2.3378 - val_accuracy: 0.6011\n",
      "Epoch 84/100\n",
      "23/23 [==============================] - 2s 82ms/step - loss: 0.1432 - accuracy: 0.9508 - val_loss: 2.3591 - val_accuracy: 0.5956\n",
      "Epoch 85/100\n",
      "23/23 [==============================] - 2s 76ms/step - loss: 0.1340 - accuracy: 0.9522 - val_loss: 2.3164 - val_accuracy: 0.5956\n",
      "Epoch 86/100\n",
      "23/23 [==============================] - 2s 77ms/step - loss: 0.1446 - accuracy: 0.9508 - val_loss: 2.3386 - val_accuracy: 0.5956\n",
      "Epoch 87/100\n",
      "23/23 [==============================] - 2s 75ms/step - loss: 0.1311 - accuracy: 0.9549 - val_loss: 2.3939 - val_accuracy: 0.6011\n",
      "Epoch 88/100\n",
      "23/23 [==============================] - 2s 75ms/step - loss: 0.1345 - accuracy: 0.9549 - val_loss: 2.3571 - val_accuracy: 0.5956\n",
      "Epoch 89/100\n",
      "23/23 [==============================] - 2s 75ms/step - loss: 0.1382 - accuracy: 0.9481 - val_loss: 2.3552 - val_accuracy: 0.5956\n",
      "Epoch 90/100\n",
      "23/23 [==============================] - 2s 76ms/step - loss: 0.1392 - accuracy: 0.9508 - val_loss: 2.3487 - val_accuracy: 0.6120\n",
      "Epoch 91/100\n",
      "23/23 [==============================] - 2s 76ms/step - loss: 0.1331 - accuracy: 0.9508 - val_loss: 2.3697 - val_accuracy: 0.6011\n",
      "Epoch 92/100\n",
      "23/23 [==============================] - 2s 77ms/step - loss: 0.1353 - accuracy: 0.9508 - val_loss: 2.3481 - val_accuracy: 0.5956\n",
      "Epoch 93/100\n",
      "23/23 [==============================] - 2s 77ms/step - loss: 0.1337 - accuracy: 0.9536 - val_loss: 2.3480 - val_accuracy: 0.6011\n",
      "Epoch 94/100\n",
      "23/23 [==============================] - 2s 79ms/step - loss: 0.1324 - accuracy: 0.9522 - val_loss: 2.3702 - val_accuracy: 0.5902\n",
      "Epoch 95/100\n",
      "23/23 [==============================] - 2s 76ms/step - loss: 0.1296 - accuracy: 0.9536 - val_loss: 2.3847 - val_accuracy: 0.5847\n",
      "Epoch 96/100\n",
      "23/23 [==============================] - 2s 77ms/step - loss: 0.1345 - accuracy: 0.9522 - val_loss: 2.3543 - val_accuracy: 0.6011\n",
      "Epoch 97/100\n",
      "23/23 [==============================] - 2s 76ms/step - loss: 0.1305 - accuracy: 0.9481 - val_loss: 2.3766 - val_accuracy: 0.5956\n",
      "Epoch 98/100\n",
      "23/23 [==============================] - 2s 78ms/step - loss: 0.1279 - accuracy: 0.9522 - val_loss: 2.3654 - val_accuracy: 0.5956\n",
      "Epoch 99/100\n",
      "23/23 [==============================] - 2s 76ms/step - loss: 0.1313 - accuracy: 0.9508 - val_loss: 2.3726 - val_accuracy: 0.6011\n",
      "Epoch 100/100\n",
      "23/23 [==============================] - 2s 79ms/step - loss: 0.1303 - accuracy: 0.9508 - val_loss: 2.3768 - val_accuracy: 0.6011\n"
     ]
    }
   ],
   "source": [
    "history = model.fit(x_train, y_train, epochs=100, batch_size=32, validation_data=(x_test, y_test))"
   ]
  },
  {
   "cell_type": "markdown",
   "metadata": {},
   "source": [
    "### plot akurasi"
   ]
  },
  {
   "cell_type": "code",
   "execution_count": 8,
   "metadata": {},
   "outputs": [
    {
     "data": {
      "image/png": "[encoded data removed]",
      "text/plain": [
       "<Figure size 640x480 with 1 Axes>"
      ]
     },
     "metadata": {},
     "output_type": "display_data"
    },
    {
     "data": {
      "image/png": "[encoded data removed]",
      "text/plain": [
       "<Figure size 640x480 with 1 Axes>"
      ]
     },
     "metadata": {},
     "output_type": "display_data"
    },
    {
     "data": {
      "image/png": "[encoded data removed]",
      "text/plain": [
       "<Figure size 640x480 with 1 Axes>"
      ]
     },
     "metadata": {},
     "output_type": "display_data"
    },
    {
     "data": {
      "image/png": "[encoded data removed]",
      "text/plain": [
       "<Figure size 640x480 with 1 Axes>"
      ]
     },
     "metadata": {},
     "output_type": "display_data"
    }
   ],
   "source": [
    "import matplotlib.pyplot as plt\n",
    "def plot_graphs(history, string):\n",
    "  plt.plot(history.history[string])\n",
    "  plt.xlabel(\"Epochs\")\n",
    "  plt.ylabel(string)\n",
    "  plt.show()\n",
    "\n",
    "# Plot the accuracy and results \n",
    "plot_graphs(history, \"accuracy\")\n",
    "plot_graphs(history, \"loss\")\n",
    "plot_graphs(history, \"val_accuracy\")\n",
    "plot_graphs(history, \"val_loss\")"
   ]
  },
  {
   "cell_type": "markdown",
   "metadata": {},
   "source": [
    "### ini cuman mau check hasil tag jangan di-run ya"
   ]
  },
  {
   "cell_type": "code",
   "execution_count": null,
   "metadata": {},
   "outputs": [
    {
     "name": "stdout",
     "output_type": "stream",
     "text": [
      "1/1 [==============================] - 1s 1s/step\n",
      "Chatbot: PMS (Sindrom Pra-Menstruasi)\n"
     ]
    }
   ],
   "source": [
    "try:\n",
    "    user_input = input('Masukkan pertanyaan: ')\n",
    "    user_input = ''.join([letters.lower() for letters in user_input if letters not in string.punctuation])\n",
    "    texts_p = [user_input]\n",
    "    \n",
    "    prediction_input = tokenizer.texts_to_sequences(texts_p)\n",
    "    prediction_input = pad_sequences(prediction_input, maxlen=input_shape)\n",
    "    \n",
    "    predicted_output = model.predict(prediction_input)\n",
    "    predicted_label_index = np.argmax(predicted_output)\n",
    "    predicted_label = label_encoder.inverse_transform([predicted_label_index])[0]\n",
    "    \n",
    "    print('Chatbot:', predicted_label)\n",
    "except:\n",
    "    print(\"Chatbot: Maaf, saya tidak memahami maksud Anda.\")"
   ]
  },
  {
   "cell_type": "markdown",
   "metadata": {},
   "source": [
    "### check output "
   ]
  },
  {
   "cell_type": "code",
   "execution_count": 9,
   "metadata": {},
   "outputs": [
    {
     "name": "stdout",
     "output_type": "stream",
     "text": [
      "1/1 [==============================] - 0s 331ms/step\n"
     ]
    },
    {
     "name": "stderr",
     "output_type": "stream",
     "text": [
      "c:\\Users\\nurul\\anaconda3\\envs\\cnn\\lib\\site-packages\\sklearn\\preprocessing\\_label.py:153: DataConversionWarning: A column-vector y was passed when a 1d array was expected. Please change the shape of y to (n_samples, ), for example using ravel().\n",
      "  y = column_or_1d(y, warn=True)\n"
     ]
    },
    {
     "name": "stdout",
     "output_type": "stream",
     "text": [
      "tags: pengertian_menstruasi\n",
      "Chatbot: Menstruasi adalah proses alami yang terjadi pada wanita setiap bulan. Selama menstruasi, tubuh melepaskan lapisan rahim yang tidak diperlukan melalui vagina.\n",
      "1/1 [==============================] - 0s 6ms/step\n"
     ]
    },
    {
     "name": "stderr",
     "output_type": "stream",
     "text": [
      "c:\\Users\\nurul\\anaconda3\\envs\\cnn\\lib\\site-packages\\sklearn\\preprocessing\\_label.py:153: DataConversionWarning: A column-vector y was passed when a 1d array was expected. Please change the shape of y to (n_samples, ), for example using ravel().\n",
      "  y = column_or_1d(y, warn=True)\n"
     ]
    },
    {
     "name": "stdout",
     "output_type": "stream",
     "text": [
      "tags: pengobatan_nyeri_menstruasi\n",
      "Chatbot: Anda dapat mencoba tindakan non-obat untuk mengurangi nyeri menstruasi, seperti terapi panas dengan bantalan pemanas atau botol air panas yang ditempatkan di perut bagian bawah, relaksasi otot dengan teknik pernapasan dalam, pijatan lembut, atau yoga. Latihan fisik teratur dan makan makanan yang sehat juga dapat membantu mengurangi gejala nyeri menstruasi.\n",
      "1/1 [==============================] - 0s 16ms/step\n"
     ]
    },
    {
     "name": "stderr",
     "output_type": "stream",
     "text": [
      "c:\\Users\\nurul\\anaconda3\\envs\\cnn\\lib\\site-packages\\sklearn\\preprocessing\\_label.py:153: DataConversionWarning: A column-vector y was passed when a 1d array was expected. Please change the shape of y to (n_samples, ), for example using ravel().\n",
      "  y = column_or_1d(y, warn=True)\n"
     ]
    },
    {
     "name": "stdout",
     "output_type": "stream",
     "text": [
      "tags: tentang_aku\n",
      "Chatbot: aku adalah teman bicara anda untuk membahas permasalahan menstruasi. Jangan malu untuk bertanya dengan saya tentang permasalahan anda\n",
      "1/1 [==============================] - 0s 15ms/step\n"
     ]
    },
    {
     "name": "stderr",
     "output_type": "stream",
     "text": [
      "c:\\Users\\nurul\\anaconda3\\envs\\cnn\\lib\\site-packages\\sklearn\\preprocessing\\_label.py:153: DataConversionWarning: A column-vector y was passed when a 1d array was expected. Please change the shape of y to (n_samples, ), for example using ravel().\n",
      "  y = column_or_1d(y, warn=True)\n"
     ]
    },
    {
     "name": "stdout",
     "output_type": "stream",
     "text": [
      "tags: agent.acquaintance\n",
      "Chatbot: Saya adalah makhluk virtual, bukan orang yang nyata \n",
      "1/1 [==============================] - 0s 18ms/step\n"
     ]
    },
    {
     "name": "stderr",
     "output_type": "stream",
     "text": [
      "c:\\Users\\nurul\\anaconda3\\envs\\cnn\\lib\\site-packages\\sklearn\\preprocessing\\_label.py:153: DataConversionWarning: A column-vector y was passed when a 1d array was expected. Please change the shape of y to (n_samples, ), for example using ravel().\n",
      "  y = column_or_1d(y, warn=True)\n"
     ]
    },
    {
     "name": "stdout",
     "output_type": "stream",
     "text": [
      "tags: agent.acquaintance\n",
      "Chatbot:  Saya adalah aplikasi percakapan \n",
      "1/1 [==============================] - 0s 18ms/step\n"
     ]
    },
    {
     "name": "stderr",
     "output_type": "stream",
     "text": [
      "c:\\Users\\nurul\\anaconda3\\envs\\cnn\\lib\\site-packages\\sklearn\\preprocessing\\_label.py:153: DataConversionWarning: A column-vector y was passed when a 1d array was expected. Please change the shape of y to (n_samples, ), for example using ravel().\n",
      "  y = column_or_1d(y, warn=True)\n"
     ]
    },
    {
     "name": "stdout",
     "output_type": "stream",
     "text": [
      "tags: agent.acquaintance\n",
      "Chatbot:  Saya adalah aplikasi percakapan \n",
      "1/1 [==============================] - 0s 17ms/step\n"
     ]
    },
    {
     "name": "stderr",
     "output_type": "stream",
     "text": [
      "c:\\Users\\nurul\\anaconda3\\envs\\cnn\\lib\\site-packages\\sklearn\\preprocessing\\_label.py:153: DataConversionWarning: A column-vector y was passed when a 1d array was expected. Please change the shape of y to (n_samples, ), for example using ravel().\n",
      "  y = column_or_1d(y, warn=True)\n"
     ]
    },
    {
     "name": "stdout",
     "output_type": "stream",
     "text": [
      "tags: nyeri_pemasangan_IUD\n",
      "Chatbot: Pemasangan IUD dapat menyebabkan sedikit ketidaknyamanan atau rasa sakit bagi beberapa wanita, tetapi tingkat rasa sakit ini dapat bervariasi dari satu individu ke individu lainnya. Beberapa wanita mungkin hanya merasa sedikit ketidaknyamanan, sementara yang lain mungkin mengalami rasa sakit yang lebih signifikan. Dokter biasanya akan memberikan nasihat dan panduan untuk mengatasi rasa sakit selama pemasangan.\n"
     ]
    }
   ],
   "source": [
    "import random\n",
    "\n",
    "while True:\n",
    "    user_input = input('You: ')\n",
    "    if user_input.lower() == 'goodbye':\n",
    "        print(\"Chatbot: Goodbye!\")\n",
    "        break\n",
    "    try:\n",
    "        input_seq = tokenizer.texts_to_sequences([user_input])\n",
    "        input_seq = pad_sequences(input_seq, maxlen=input_shape)\n",
    "        predicted_label_seq = model.predict(input_seq)\n",
    "        predicted_label = label_encoder.inverse_transform([predicted_label_seq.argmax(axis=-1)])[0]\n",
    "        print(\"tags:\", predicted_label)\n",
    "\n",
    "        # Pilih respons dari kategori tag\n",
    "        responses_for_tag = responses.get(predicted_label, [\"Chatbot: Maaf, saya tidak memahami maksud Anda.\"])\n",
    "        response = random.choice(responses_for_tag)\n",
    "        \n",
    "        print(\"Chatbot:\", response)\n",
    "    except:\n",
    "        print(\"Chatbot: Maaf, saya tidak memahami maksud Anda.\")\n"
   ]
  }
 ],
 "metadata": {
  "kernelspec": {
   "display_name": "cnn",
   "language": "python",
   "name": "python3"
  },
  "language_info": {
   "codemirror_mode": {
    "name": "ipython",
    "version": 3
   },
   "file_extension": ".py",
   "mimetype": "text/x-python",
   "name": "python",
   "nbconvert_exporter": "python",
   "pygments_lexer": "ipython3",
   "version": "3.10.12"
  }
 },
 "nbformat": 4,
 "nbformat_minor": 2
}
