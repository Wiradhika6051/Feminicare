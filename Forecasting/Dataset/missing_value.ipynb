{
 "cells": [
  {
   "cell_type": "code",
   "execution_count": 29,
   "metadata": {},
   "outputs": [
    {
     "name": "stdout",
     "output_type": "stream",
     "text": [
      "DataFrame sebelum interpolasi:\n",
      "    ClientID  LengthofCycle  EstimatedDayofOvulation  LengthofMenses   Age  \\\n",
      "0    nfp8020             27                       15               7  33.0   \n",
      "1    nfp8024             28                       15               5  23.0   \n",
      "2    nfp8026             25                       11               5  39.0   \n",
      "3    nfp8030             29                       14               5  23.0   \n",
      "4    nfp8031             27                       13               6  30.0   \n",
      "..       ...            ...                      ...             ...   ...   \n",
      "155  nfp8322             38                       25               6   NaN   \n",
      "156  nfp8323             34                       20               6   NaN   \n",
      "157  nfp8324             30                       13               6   NaN   \n",
      "158  nfp8328             35                       23               6   NaN   \n",
      "159  nfp8334             28                       18               6   NaN   \n",
      "\n",
      "           BMI  \n",
      "0    25.790533  \n",
      "1    24.958580  \n",
      "2    21.454890  \n",
      "3    22.462722  \n",
      "4    21.948577  \n",
      "..         ...  \n",
      "155        NaN  \n",
      "156        NaN  \n",
      "157        NaN  \n",
      "158        NaN  \n",
      "159        NaN  \n",
      "\n",
      "[160 rows x 6 columns]\n"
     ]
    }
   ],
   "source": [
    "import pandas as pd\n",
    "\n",
    "# Membaca data dari file CSV\n",
    "df = pd.read_csv('dataset_v2.csv')\n",
    "\n",
    "# Menampilkan DataFrame sebelum interpolasi\n",
    "print(\"DataFrame sebelum interpolasi:\")\n",
    "# df = pd.to_numeric(df, errors='coerce')\n",
    "df['Age'] = pd.to_numeric(df['Age'], errors='coerce')\n",
    "df['BMI'] = pd.to_numeric(df['BMI'], errors='coerce')\n",
    "print(df)\n",
    "\n",
    "\n",
    "\n"
   ]
  },
  {
   "cell_type": "code",
   "execution_count": 31,
   "metadata": {},
   "outputs": [
    {
     "name": "stdout",
     "output_type": "stream",
     "text": [
      "\n",
      "DataFrame setelah interpolasi:\n",
      "    ClientID  LengthofCycle  EstimatedDayofOvulation  LengthofMenses   Age  \\\n",
      "0    nfp8020             27                       15               7  33.0   \n",
      "1    nfp8024             28                       15               5  23.0   \n",
      "2    nfp8026             25                       11               5  39.0   \n",
      "3    nfp8030             29                       14               5  23.0   \n",
      "4    nfp8031             27                       13               6  30.0   \n",
      "..       ...            ...                      ...             ...   ...   \n",
      "155  nfp8322             38                       25               6  23.0   \n",
      "156  nfp8323             34                       20               6  23.0   \n",
      "157  nfp8324             30                       13               6  23.0   \n",
      "158  nfp8328             35                       23               6  23.0   \n",
      "159  nfp8334             28                       18               6  23.0   \n",
      "\n",
      "           BMI  \n",
      "0    25.790533  \n",
      "1    24.958580  \n",
      "2    21.454890  \n",
      "3    22.462722  \n",
      "4    21.948577  \n",
      "..         ...  \n",
      "155        NaN  \n",
      "156        NaN  \n",
      "157        NaN  \n",
      "158        NaN  \n",
      "159        NaN  \n",
      "\n",
      "[160 rows x 6 columns]\n"
     ]
    }
   ],
   "source": [
    "df['Age'] = df['Age'].interpolate(method='linear', limit_direction='both')\n",
    "\n",
    "# Menampilkan DataFrame setelah interpolasi\n",
    "print(\"\\nDataFrame setelah interpolasi:\")\n",
    "print(df)\n",
    "\n",
    "# Menyimpan DataFrame yang telah diinterpolasi ke file CSV baru\n",
    "df.to_csv('dataset_v2_interpolated.csv', index=False)"
   ]
  },
  {
   "cell_type": "code",
   "execution_count": 18,
   "metadata": {},
   "outputs": [
    {
     "name": "stdout",
     "output_type": "stream",
     "text": [
      "ClientID                    object\n",
      "LengthofCycle                int64\n",
      "EstimatedDayofOvulation      int64\n",
      "LengthofMenses               int64\n",
      "Age                        float64\n",
      "BMI                        float64\n",
      "dtype: object\n"
     ]
    }
   ],
   "source": [
    "print(df.dtypes)\n"
   ]
  }
 ],
 "metadata": {
  "kernelspec": {
   "display_name": "cnn",
   "language": "python",
   "name": "python3"
  },
  "language_info": {
   "codemirror_mode": {
    "name": "ipython",
    "version": 3
   },
   "file_extension": ".py",
   "mimetype": "text/x-python",
   "name": "python",
   "nbconvert_exporter": "python",
   "pygments_lexer": "ipython3",
   "version": "3.10.12"
  }
 },
 "nbformat": 4,
 "nbformat_minor": 2
}
