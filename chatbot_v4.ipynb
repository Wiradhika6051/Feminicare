{
  "cells": [
    {
      "cell_type": "markdown",
      "metadata": {
        "id": "view-in-github",
        "colab_type": "text"
      },
      "source": [
        "<a href=\"https://colab.research.google.com/github/Wiradhika6051/Feminicare/blob/ML/chatbot_v4.ipynb\" target=\"_parent\"><img src=\"https://colab.research.google.com/assets/colab-badge.svg\" alt=\"Open In Colab\"/></a>"
      ]
    },
    {
      "cell_type": "markdown",
      "metadata": {
        "id": "wOx5iPaixsMa"
      },
      "source": [
        "## Chatbot"
      ]
    },
    {
      "cell_type": "markdown",
      "metadata": {
        "id": "xQfOuwL0xsMg"
      },
      "source": [
        "### Input library"
      ]
    },
    {
      "cell_type": "code",
      "execution_count": 3,
      "metadata": {
        "id": "RyKVzxi7xsMh"
      },
      "outputs": [],
      "source": [
        "import numpy as np\n",
        "import tensorflow as tf\n",
        "from tensorflow.keras.models import Sequential\n",
        "import re\n",
        "import json\n",
        "import nltk\n",
        "from nltk.stem import WordNetLemmatizer\n",
        "import pandas as pd"
      ]
    },
    {
      "cell_type": "markdown",
      "metadata": {
        "id": "2t4eD6q9xsMk"
      },
      "source": [
        "### load dataset dan preparation"
      ]
    },
    {
      "cell_type": "code",
      "source": [
        "import json\n",
        "import pandas as pd\n",
        "import re\n",
        "\n",
        "# Read stop words from file\n",
        "stop_words = set()\n",
        "with open('stopword_id.txt', 'r', encoding='utf-8') as file:\n",
        "    for line in file:\n",
        "        stop_words.add(line.strip())\n",
        "\n",
        "with open('dataset3.json') as f:\n",
        "    data = json.load(f)\n",
        "\n",
        "tags = []\n",
        "inputs = []\n",
        "responses = {}\n",
        "\n",
        "# Function to remove stopwords\n",
        "def remove_stopwords(text):\n",
        "    return ' '.join([word for word in text.split() if word.lower() not in stop_words])\n",
        "\n",
        "for intent in data['intents']:\n",
        "    responses[intent['tag']] = intent['responses']\n",
        "    for line in intent['patterns']:\n",
        "        # Preprocess text\n",
        "        line = re.sub('[.,’\"\\'-?:!;]', '', line)\n",
        "\n",
        "        # Remove stopwords\n",
        "        line = remove_stopwords(line)\n",
        "\n",
        "        inputs.append(line)\n",
        "        tags.append(intent['tag'])\n",
        "\n",
        "# Create a DataFrame\n",
        "data_df = pd.DataFrame({\"inputs\": inputs, \"tags\": tags})\n"
      ],
      "metadata": {
        "id": "uIqDgpC_ZZsV"
      },
      "execution_count": 4,
      "outputs": []
    },
    {
      "cell_type": "markdown",
      "metadata": {
        "id": "ytba4TwcxsMl"
      },
      "source": [
        "### print dataset setelah preparation"
      ]
    },
    {
      "cell_type": "code",
      "execution_count": 5,
      "metadata": {
        "colab": {
          "base_uri": "https://localhost:8080/"
        },
        "id": "2P2E2AmpxsMm",
        "outputId": "13d37de7-f21a-4811-d6f4-fbd36407e432"
      },
      "outputs": [
        {
          "output_type": "stream",
          "name": "stdout",
          "text": [
            "                                                inputs  \\\n",
            "0                                                hallo   \n",
            "1                                                  hai   \n",
            "2                                                 halo   \n",
            "3                                                  hei   \n",
            "4                                                   hi   \n",
            "..                                                 ...   \n",
            "716  Cara mencari dokter spesialis kesehatan menstr...   \n",
            "717          Pemilihan dokter cocok masalah menstruasi   \n",
            "718  siklus menstruasi berubah seiring pertambahan ...   \n",
            "719  Perubahan dalam siklus menstruasi seiring bert...   \n",
            "720  siklus menstruasi berubah saat memasuki usia t...   \n",
            "\n",
            "                                        tags  \n",
            "0                                      salam  \n",
            "1                                      salam  \n",
            "2                                      salam  \n",
            "3                                      salam  \n",
            "4                                      salam  \n",
            "..                                       ...  \n",
            "716           spesialis_kesehatan_menstruasi  \n",
            "717           spesialis_kesehatan_menstruasi  \n",
            "718  perubahan_siklus_menstruasi_dengan_usia  \n",
            "719  perubahan_siklus_menstruasi_dengan_usia  \n",
            "720  perubahan_siklus_menstruasi_dengan_usia  \n",
            "\n",
            "[721 rows x 2 columns]\n"
          ]
        }
      ],
      "source": [
        "print(data_df)"
      ]
    },
    {
      "cell_type": "code",
      "execution_count": 4,
      "metadata": {
        "id": "CxwHeNUuxsMo",
        "colab": {
          "base_uri": "https://localhost:8080/"
        },
        "outputId": "f5224130-353d-4d50-894b-d3ec2f45e92d"
      },
      "outputs": [
        {
          "output_type": "stream",
          "name": "stdout",
          "text": [
            "CSV file created successfully.\n"
          ]
        }
      ],
      "source": [
        "data_df.to_csv('output.csv', index=False)\n",
        "\n",
        "print(\"CSV file created successfully.\")"
      ]
    },
    {
      "cell_type": "markdown",
      "metadata": {
        "id": "UMCIuqgRxsMp"
      },
      "source": [
        "### preprocessing"
      ]
    },
    {
      "cell_type": "code",
      "execution_count": 6,
      "metadata": {
        "id": "hOD0jY_RxsMp"
      },
      "outputs": [],
      "source": [
        "from sklearn.model_selection import train_test_split\n",
        "from tensorflow.keras.preprocessing.text import Tokenizer\n",
        "from tensorflow.keras.preprocessing.sequence import pad_sequences\n",
        "from sklearn.preprocessing import LabelEncoder\n",
        "\n",
        "# Tokenizer\n",
        "tokenizer = Tokenizer(num_words=2000, oov_token='<OOV>')\n",
        "tokenizer.fit_on_texts(data_df['inputs'])\n",
        "\n",
        "# Encode the outputs\n",
        "label_encoder = LabelEncoder()\n",
        "y_train = label_encoder.fit_transform(data_df['tags'])\n",
        "\n",
        "# Padding sequences\n",
        "sequences = tokenizer.texts_to_sequences(data_df['inputs'])\n",
        "max_len = max(len(sequence) for sequence in sequences)\n",
        "x_train = pad_sequences(sequences, maxlen=max_len, truncating='post')\n",
        "\n",
        "# Split the data into training and testing sets\n",
        "x_train, x_test, y_train, y_test = train_test_split(x_train, y_train, test_size=0.2, random_state=42)\n"
      ]
    },
    {
      "cell_type": "markdown",
      "metadata": {
        "id": "Azu5MKpTxsMq"
      },
      "source": [
        "### inisialisasi layer"
      ]
    },
    {
      "cell_type": "code",
      "execution_count": 50,
      "metadata": {
        "id": "iP9mFaTlxsMq"
      },
      "outputs": [],
      "source": [
        "model = Sequential([\n",
        "    tf.keras.layers.Embedding(len(tokenizer.word_index)+1, 64, input_length=max_len),\n",
        "    tf.keras.layers.LSTM(436, return_sequences=True),\n",
        "    tf.keras.layers.Flatten(),\n",
        "    tf.keras.layers.Dropout(0.2),\n",
        "    tf.keras.layers.Dense(len(label_encoder.classes_), activation='softmax'),\n",
        "])\n",
        "\n",
        "\n",
        "model.compile(loss='sparse_categorical_crossentropy', optimizer='adam', metrics=['accuracy'])\n",
        "# model.compile(loss='sparse_categorical_crossentropy', optimizer='adam', metrics=['accuracy', 'precision'])\n",
        "\n"
      ]
    },
    {
      "cell_type": "code",
      "source": [
        "from tensorflow.keras.models import Sequential\n",
        "from tensorflow.keras.layers import Embedding, LSTM, GlobalMaxPooling1D, Dropout, Dense\n",
        "\n",
        "model = Sequential([\n",
        "    Embedding(len(tokenizer.word_index)+1, 64, input_length=max_len),\n",
        "    LSTM(436, return_sequences=True),\n",
        "    GlobalMaxPooling1D(),\n",
        "    Dropout(0.5),\n",
        "    Dense(256, activation='relu'),\n",
        "    Dropout(0.5),\n",
        "    Dense(len(label_encoder.classes_), activation='softmax'),\n",
        "])\n",
        "\n",
        "model.compile(loss='sparse_categorical_crossentropy', optimizer='adam', metrics=['accuracy'])"
      ],
      "metadata": {
        "id": "CDzxNc8R3g-8"
      },
      "execution_count": 63,
      "outputs": []
    },
    {
      "cell_type": "markdown",
      "metadata": {
        "id": "f8o8PDsYxsMr"
      },
      "source": [
        "### training model"
      ]
    },
    {
      "cell_type": "code",
      "execution_count": 64,
      "metadata": {
        "colab": {
          "base_uri": "https://localhost:8080/",
          "height": 1000
        },
        "id": "oesE6R5uxsMr",
        "outputId": "bfbe6a03-f1e1-4f0d-a247-9f87640ec81c"
      },
      "outputs": [
        {
          "output_type": "stream",
          "name": "stdout",
          "text": [
            "Epoch 1/100\n",
            "36/36 [==============================] - ETA: 0s - loss: 5.1503 - accuracy: 0.0017\n",
            "Epoch 1: val_loss improved from inf to 5.15535, saving model to best_model.h5\n",
            "36/36 [==============================] - 6s 82ms/step - loss: 5.1503 - accuracy: 0.0017 - val_loss: 5.1553 - val_accuracy: 0.0207\n",
            "Epoch 2/100\n",
            "36/36 [==============================] - ETA: 0s - loss: 5.1336 - accuracy: 0.0156\n",
            "Epoch 2: val_loss did not improve from 5.15535\n",
            "36/36 [==============================] - 2s 55ms/step - loss: 5.1336 - accuracy: 0.0156 - val_loss: 5.1762 - val_accuracy: 0.0276\n",
            "Epoch 3/100\n",
            "36/36 [==============================] - ETA: 0s - loss: 5.0956 - accuracy: 0.0174\n",
            "Epoch 3: val_loss did not improve from 5.15535\n",
            "36/36 [==============================] - 2s 55ms/step - loss: 5.0956 - accuracy: 0.0174 - val_loss: 5.1984 - val_accuracy: 0.0207\n",
            "Epoch 4/100\n",
            "36/36 [==============================] - ETA: 0s - loss: 5.0378 - accuracy: 0.0208\n",
            "Epoch 4: val_loss did not improve from 5.15535\n",
            "36/36 [==============================] - 2s 56ms/step - loss: 5.0378 - accuracy: 0.0208 - val_loss: 5.1645 - val_accuracy: 0.0207\n",
            "Epoch 5/100\n",
            "36/36 [==============================] - ETA: 0s - loss: 4.9925 - accuracy: 0.0226\n",
            "Epoch 5: val_loss improved from 5.15535 to 5.10985, saving model to best_model.h5\n",
            "36/36 [==============================] - 2s 58ms/step - loss: 4.9925 - accuracy: 0.0226 - val_loss: 5.1099 - val_accuracy: 0.0207\n",
            "Epoch 6/100\n",
            "36/36 [==============================] - ETA: 0s - loss: 4.9165 - accuracy: 0.0208\n",
            "Epoch 6: val_loss improved from 5.10985 to 5.06167, saving model to best_model.h5\n",
            "36/36 [==============================] - 3s 92ms/step - loss: 4.9165 - accuracy: 0.0208 - val_loss: 5.0617 - val_accuracy: 0.0207\n",
            "Epoch 7/100\n",
            "36/36 [==============================] - ETA: 0s - loss: 4.7897 - accuracy: 0.0208\n",
            "Epoch 7: val_loss did not improve from 5.06167\n",
            "36/36 [==============================] - 2s 61ms/step - loss: 4.7897 - accuracy: 0.0208 - val_loss: 5.0839 - val_accuracy: 0.0345\n",
            "Epoch 8/100\n",
            "36/36 [==============================] - ETA: 0s - loss: 4.6333 - accuracy: 0.0365\n",
            "Epoch 8: val_loss improved from 5.06167 to 4.95026, saving model to best_model.h5\n",
            "36/36 [==============================] - 2s 56ms/step - loss: 4.6333 - accuracy: 0.0365 - val_loss: 4.9503 - val_accuracy: 0.0276\n",
            "Epoch 9/100\n",
            "36/36 [==============================] - ETA: 0s - loss: 4.4997 - accuracy: 0.0417\n",
            "Epoch 9: val_loss did not improve from 4.95026\n",
            "36/36 [==============================] - 2s 56ms/step - loss: 4.4997 - accuracy: 0.0417 - val_loss: 4.9847 - val_accuracy: 0.0276\n",
            "Epoch 10/100\n",
            "36/36 [==============================] - ETA: 0s - loss: 4.3854 - accuracy: 0.0382\n",
            "Epoch 10: val_loss improved from 4.95026 to 4.87785, saving model to best_model.h5\n",
            "36/36 [==============================] - 2s 56ms/step - loss: 4.3854 - accuracy: 0.0382 - val_loss: 4.8779 - val_accuracy: 0.0552\n",
            "Epoch 11/100\n",
            "35/36 [============================>.] - ETA: 0s - loss: 4.2712 - accuracy: 0.0571\n",
            "Epoch 11: val_loss did not improve from 4.87785\n",
            "36/36 [==============================] - 2s 57ms/step - loss: 4.2693 - accuracy: 0.0573 - val_loss: 4.9074 - val_accuracy: 0.0276\n",
            "Epoch 12/100\n",
            "36/36 [==============================] - ETA: 0s - loss: 4.1066 - accuracy: 0.0608\n",
            "Epoch 12: val_loss improved from 4.87785 to 4.70003, saving model to best_model.h5\n",
            "36/36 [==============================] - 3s 88ms/step - loss: 4.1066 - accuracy: 0.0608 - val_loss: 4.7000 - val_accuracy: 0.0483\n",
            "Epoch 13/100\n",
            "36/36 [==============================] - ETA: 0s - loss: 3.9670 - accuracy: 0.0747\n",
            "Epoch 13: val_loss improved from 4.70003 to 4.63705, saving model to best_model.h5\n",
            "36/36 [==============================] - 3s 70ms/step - loss: 3.9670 - accuracy: 0.0747 - val_loss: 4.6371 - val_accuracy: 0.0414\n",
            "Epoch 14/100\n",
            "36/36 [==============================] - ETA: 0s - loss: 3.8164 - accuracy: 0.1128\n",
            "Epoch 14: val_loss improved from 4.63705 to 4.50500, saving model to best_model.h5\n",
            "36/36 [==============================] - 2s 60ms/step - loss: 3.8164 - accuracy: 0.1128 - val_loss: 4.5050 - val_accuracy: 0.0897\n",
            "Epoch 15/100\n",
            "36/36 [==============================] - ETA: 0s - loss: 3.6093 - accuracy: 0.1181\n",
            "Epoch 15: val_loss improved from 4.50500 to 4.35190, saving model to best_model.h5\n",
            "36/36 [==============================] - 2s 62ms/step - loss: 3.6093 - accuracy: 0.1181 - val_loss: 4.3519 - val_accuracy: 0.0759\n",
            "Epoch 16/100\n",
            "36/36 [==============================] - ETA: 0s - loss: 3.5122 - accuracy: 0.1267\n",
            "Epoch 16: val_loss improved from 4.35190 to 4.19517, saving model to best_model.h5\n",
            "36/36 [==============================] - 2s 57ms/step - loss: 3.5122 - accuracy: 0.1267 - val_loss: 4.1952 - val_accuracy: 0.1586\n",
            "Epoch 17/100\n",
            "36/36 [==============================] - ETA: 0s - loss: 3.2280 - accuracy: 0.1823\n",
            "Epoch 17: val_loss improved from 4.19517 to 4.04968, saving model to best_model.h5\n",
            "36/36 [==============================] - 2s 58ms/step - loss: 3.2280 - accuracy: 0.1823 - val_loss: 4.0497 - val_accuracy: 0.1517\n",
            "Epoch 18/100\n",
            "36/36 [==============================] - ETA: 0s - loss: 2.9883 - accuracy: 0.2101\n",
            "Epoch 18: val_loss improved from 4.04968 to 3.80377, saving model to best_model.h5\n",
            "36/36 [==============================] - 3s 89ms/step - loss: 2.9883 - accuracy: 0.2101 - val_loss: 3.8038 - val_accuracy: 0.1793\n",
            "Epoch 19/100\n",
            "36/36 [==============================] - ETA: 0s - loss: 2.8565 - accuracy: 0.2448\n",
            "Epoch 19: val_loss improved from 3.80377 to 3.73990, saving model to best_model.h5\n",
            "36/36 [==============================] - 2s 69ms/step - loss: 2.8565 - accuracy: 0.2448 - val_loss: 3.7399 - val_accuracy: 0.1862\n",
            "Epoch 20/100\n",
            "32/36 [=========================>....] - ETA: 0s - loss: 2.6581 - accuracy: 0.2832"
          ]
        },
        {
          "output_type": "error",
          "ename": "KeyboardInterrupt",
          "evalue": "ignored",
          "traceback": [
            "\u001b[0;31m---------------------------------------------------------------------------\u001b[0m",
            "\u001b[0;31mKeyboardInterrupt\u001b[0m                         Traceback (most recent call last)",
            "\u001b[0;32m<ipython-input-64-50444caf400d>\u001b[0m in \u001b[0;36m<cell line: 11>\u001b[0;34m()\u001b[0m\n\u001b[1;32m      9\u001b[0m \u001b[0;34m\u001b[0m\u001b[0m\n\u001b[1;32m     10\u001b[0m \u001b[0;31m# Latih model dengan menggunakan callback ModelCheckpoint\u001b[0m\u001b[0;34m\u001b[0m\u001b[0;34m\u001b[0m\u001b[0m\n\u001b[0;32m---> 11\u001b[0;31m history = model.fit(x_train, y_train, \n\u001b[0m\u001b[1;32m     12\u001b[0m                     \u001b[0mepochs\u001b[0m\u001b[0;34m=\u001b[0m\u001b[0;36m100\u001b[0m\u001b[0;34m,\u001b[0m\u001b[0;34m\u001b[0m\u001b[0;34m\u001b[0m\u001b[0m\n\u001b[1;32m     13\u001b[0m                     \u001b[0mbatch_size\u001b[0m\u001b[0;34m=\u001b[0m\u001b[0;36m16\u001b[0m\u001b[0;34m,\u001b[0m\u001b[0;34m\u001b[0m\u001b[0;34m\u001b[0m\u001b[0m\n",
            "\u001b[0;32m/usr/local/lib/python3.10/dist-packages/keras/src/utils/traceback_utils.py\u001b[0m in \u001b[0;36merror_handler\u001b[0;34m(*args, **kwargs)\u001b[0m\n\u001b[1;32m     63\u001b[0m         \u001b[0mfiltered_tb\u001b[0m \u001b[0;34m=\u001b[0m \u001b[0;32mNone\u001b[0m\u001b[0;34m\u001b[0m\u001b[0;34m\u001b[0m\u001b[0m\n\u001b[1;32m     64\u001b[0m         \u001b[0;32mtry\u001b[0m\u001b[0;34m:\u001b[0m\u001b[0;34m\u001b[0m\u001b[0;34m\u001b[0m\u001b[0m\n\u001b[0;32m---> 65\u001b[0;31m             \u001b[0;32mreturn\u001b[0m \u001b[0mfn\u001b[0m\u001b[0;34m(\u001b[0m\u001b[0;34m*\u001b[0m\u001b[0margs\u001b[0m\u001b[0;34m,\u001b[0m \u001b[0;34m**\u001b[0m\u001b[0mkwargs\u001b[0m\u001b[0;34m)\u001b[0m\u001b[0;34m\u001b[0m\u001b[0;34m\u001b[0m\u001b[0m\n\u001b[0m\u001b[1;32m     66\u001b[0m         \u001b[0;32mexcept\u001b[0m \u001b[0mException\u001b[0m \u001b[0;32mas\u001b[0m \u001b[0me\u001b[0m\u001b[0;34m:\u001b[0m\u001b[0;34m\u001b[0m\u001b[0;34m\u001b[0m\u001b[0m\n\u001b[1;32m     67\u001b[0m             \u001b[0mfiltered_tb\u001b[0m \u001b[0;34m=\u001b[0m \u001b[0m_process_traceback_frames\u001b[0m\u001b[0;34m(\u001b[0m\u001b[0me\u001b[0m\u001b[0;34m.\u001b[0m\u001b[0m__traceback__\u001b[0m\u001b[0;34m)\u001b[0m\u001b[0;34m\u001b[0m\u001b[0;34m\u001b[0m\u001b[0m\n",
            "\u001b[0;32m/usr/local/lib/python3.10/dist-packages/keras/src/engine/training.py\u001b[0m in \u001b[0;36mfit\u001b[0;34m(self, x, y, batch_size, epochs, verbose, callbacks, validation_split, validation_data, shuffle, class_weight, sample_weight, initial_epoch, steps_per_epoch, validation_steps, validation_batch_size, validation_freq, max_queue_size, workers, use_multiprocessing)\u001b[0m\n\u001b[1;32m   1781\u001b[0m                         ):\n\u001b[1;32m   1782\u001b[0m                             \u001b[0mcallbacks\u001b[0m\u001b[0;34m.\u001b[0m\u001b[0mon_train_batch_begin\u001b[0m\u001b[0;34m(\u001b[0m\u001b[0mstep\u001b[0m\u001b[0;34m)\u001b[0m\u001b[0;34m\u001b[0m\u001b[0;34m\u001b[0m\u001b[0m\n\u001b[0;32m-> 1783\u001b[0;31m                             \u001b[0mtmp_logs\u001b[0m \u001b[0;34m=\u001b[0m \u001b[0mself\u001b[0m\u001b[0;34m.\u001b[0m\u001b[0mtrain_function\u001b[0m\u001b[0;34m(\u001b[0m\u001b[0miterator\u001b[0m\u001b[0;34m)\u001b[0m\u001b[0;34m\u001b[0m\u001b[0;34m\u001b[0m\u001b[0m\n\u001b[0m\u001b[1;32m   1784\u001b[0m                             \u001b[0;32mif\u001b[0m \u001b[0mdata_handler\u001b[0m\u001b[0;34m.\u001b[0m\u001b[0mshould_sync\u001b[0m\u001b[0;34m:\u001b[0m\u001b[0;34m\u001b[0m\u001b[0;34m\u001b[0m\u001b[0m\n\u001b[1;32m   1785\u001b[0m                                 \u001b[0mcontext\u001b[0m\u001b[0;34m.\u001b[0m\u001b[0masync_wait\u001b[0m\u001b[0;34m(\u001b[0m\u001b[0;34m)\u001b[0m\u001b[0;34m\u001b[0m\u001b[0;34m\u001b[0m\u001b[0m\n",
            "\u001b[0;32m/usr/local/lib/python3.10/dist-packages/tensorflow/python/util/traceback_utils.py\u001b[0m in \u001b[0;36merror_handler\u001b[0;34m(*args, **kwargs)\u001b[0m\n\u001b[1;32m    148\u001b[0m     \u001b[0mfiltered_tb\u001b[0m \u001b[0;34m=\u001b[0m \u001b[0;32mNone\u001b[0m\u001b[0;34m\u001b[0m\u001b[0;34m\u001b[0m\u001b[0m\n\u001b[1;32m    149\u001b[0m     \u001b[0;32mtry\u001b[0m\u001b[0;34m:\u001b[0m\u001b[0;34m\u001b[0m\u001b[0;34m\u001b[0m\u001b[0m\n\u001b[0;32m--> 150\u001b[0;31m       \u001b[0;32mreturn\u001b[0m \u001b[0mfn\u001b[0m\u001b[0;34m(\u001b[0m\u001b[0;34m*\u001b[0m\u001b[0margs\u001b[0m\u001b[0;34m,\u001b[0m \u001b[0;34m**\u001b[0m\u001b[0mkwargs\u001b[0m\u001b[0;34m)\u001b[0m\u001b[0;34m\u001b[0m\u001b[0;34m\u001b[0m\u001b[0m\n\u001b[0m\u001b[1;32m    151\u001b[0m     \u001b[0;32mexcept\u001b[0m \u001b[0mException\u001b[0m \u001b[0;32mas\u001b[0m \u001b[0me\u001b[0m\u001b[0;34m:\u001b[0m\u001b[0;34m\u001b[0m\u001b[0;34m\u001b[0m\u001b[0m\n\u001b[1;32m    152\u001b[0m       \u001b[0mfiltered_tb\u001b[0m \u001b[0;34m=\u001b[0m \u001b[0m_process_traceback_frames\u001b[0m\u001b[0;34m(\u001b[0m\u001b[0me\u001b[0m\u001b[0;34m.\u001b[0m\u001b[0m__traceback__\u001b[0m\u001b[0;34m)\u001b[0m\u001b[0;34m\u001b[0m\u001b[0;34m\u001b[0m\u001b[0m\n",
            "\u001b[0;32m/usr/local/lib/python3.10/dist-packages/tensorflow/python/eager/polymorphic_function/polymorphic_function.py\u001b[0m in \u001b[0;36m__call__\u001b[0;34m(self, *args, **kwds)\u001b[0m\n\u001b[1;32m    829\u001b[0m \u001b[0;34m\u001b[0m\u001b[0m\n\u001b[1;32m    830\u001b[0m       \u001b[0;32mwith\u001b[0m \u001b[0mOptionalXlaContext\u001b[0m\u001b[0;34m(\u001b[0m\u001b[0mself\u001b[0m\u001b[0;34m.\u001b[0m\u001b[0m_jit_compile\u001b[0m\u001b[0;34m)\u001b[0m\u001b[0;34m:\u001b[0m\u001b[0;34m\u001b[0m\u001b[0;34m\u001b[0m\u001b[0m\n\u001b[0;32m--> 831\u001b[0;31m         \u001b[0mresult\u001b[0m \u001b[0;34m=\u001b[0m \u001b[0mself\u001b[0m\u001b[0;34m.\u001b[0m\u001b[0m_call\u001b[0m\u001b[0;34m(\u001b[0m\u001b[0;34m*\u001b[0m\u001b[0margs\u001b[0m\u001b[0;34m,\u001b[0m \u001b[0;34m**\u001b[0m\u001b[0mkwds\u001b[0m\u001b[0;34m)\u001b[0m\u001b[0;34m\u001b[0m\u001b[0;34m\u001b[0m\u001b[0m\n\u001b[0m\u001b[1;32m    832\u001b[0m \u001b[0;34m\u001b[0m\u001b[0m\n\u001b[1;32m    833\u001b[0m       \u001b[0mnew_tracing_count\u001b[0m \u001b[0;34m=\u001b[0m \u001b[0mself\u001b[0m\u001b[0;34m.\u001b[0m\u001b[0mexperimental_get_tracing_count\u001b[0m\u001b[0;34m(\u001b[0m\u001b[0;34m)\u001b[0m\u001b[0;34m\u001b[0m\u001b[0;34m\u001b[0m\u001b[0m\n",
            "\u001b[0;32m/usr/local/lib/python3.10/dist-packages/tensorflow/python/eager/polymorphic_function/polymorphic_function.py\u001b[0m in \u001b[0;36m_call\u001b[0;34m(self, *args, **kwds)\u001b[0m\n\u001b[1;32m    865\u001b[0m       \u001b[0;31m# In this case we have created variables on the first call, so we run the\u001b[0m\u001b[0;34m\u001b[0m\u001b[0;34m\u001b[0m\u001b[0m\n\u001b[1;32m    866\u001b[0m       \u001b[0;31m# defunned version which is guaranteed to never create variables.\u001b[0m\u001b[0;34m\u001b[0m\u001b[0;34m\u001b[0m\u001b[0m\n\u001b[0;32m--> 867\u001b[0;31m       return tracing_compilation.call_function(\n\u001b[0m\u001b[1;32m    868\u001b[0m           \u001b[0margs\u001b[0m\u001b[0;34m,\u001b[0m \u001b[0mkwds\u001b[0m\u001b[0;34m,\u001b[0m \u001b[0mself\u001b[0m\u001b[0;34m.\u001b[0m\u001b[0m_no_variable_creation_config\u001b[0m\u001b[0;34m\u001b[0m\u001b[0;34m\u001b[0m\u001b[0m\n\u001b[1;32m    869\u001b[0m       )\n",
            "\u001b[0;32m/usr/local/lib/python3.10/dist-packages/tensorflow/python/eager/polymorphic_function/tracing_compilation.py\u001b[0m in \u001b[0;36mcall_function\u001b[0;34m(args, kwargs, tracing_options)\u001b[0m\n\u001b[1;32m    137\u001b[0m   \u001b[0mbound_args\u001b[0m \u001b[0;34m=\u001b[0m \u001b[0mfunction\u001b[0m\u001b[0;34m.\u001b[0m\u001b[0mfunction_type\u001b[0m\u001b[0;34m.\u001b[0m\u001b[0mbind\u001b[0m\u001b[0;34m(\u001b[0m\u001b[0;34m*\u001b[0m\u001b[0margs\u001b[0m\u001b[0;34m,\u001b[0m \u001b[0;34m**\u001b[0m\u001b[0mkwargs\u001b[0m\u001b[0;34m)\u001b[0m\u001b[0;34m\u001b[0m\u001b[0;34m\u001b[0m\u001b[0m\n\u001b[1;32m    138\u001b[0m   \u001b[0mflat_inputs\u001b[0m \u001b[0;34m=\u001b[0m \u001b[0mfunction\u001b[0m\u001b[0;34m.\u001b[0m\u001b[0mfunction_type\u001b[0m\u001b[0;34m.\u001b[0m\u001b[0munpack_inputs\u001b[0m\u001b[0;34m(\u001b[0m\u001b[0mbound_args\u001b[0m\u001b[0;34m)\u001b[0m\u001b[0;34m\u001b[0m\u001b[0;34m\u001b[0m\u001b[0m\n\u001b[0;32m--> 139\u001b[0;31m   return function._call_flat(  # pylint: disable=protected-access\n\u001b[0m\u001b[1;32m    140\u001b[0m       \u001b[0mflat_inputs\u001b[0m\u001b[0;34m,\u001b[0m \u001b[0mcaptured_inputs\u001b[0m\u001b[0;34m=\u001b[0m\u001b[0mfunction\u001b[0m\u001b[0;34m.\u001b[0m\u001b[0mcaptured_inputs\u001b[0m\u001b[0;34m\u001b[0m\u001b[0;34m\u001b[0m\u001b[0m\n\u001b[1;32m    141\u001b[0m   )\n",
            "\u001b[0;32m/usr/local/lib/python3.10/dist-packages/tensorflow/python/eager/polymorphic_function/concrete_function.py\u001b[0m in \u001b[0;36m_call_flat\u001b[0;34m(self, tensor_inputs, captured_inputs)\u001b[0m\n\u001b[1;32m   1262\u001b[0m         and executing_eagerly):\n\u001b[1;32m   1263\u001b[0m       \u001b[0;31m# No tape is watching; skip to running the function.\u001b[0m\u001b[0;34m\u001b[0m\u001b[0;34m\u001b[0m\u001b[0m\n\u001b[0;32m-> 1264\u001b[0;31m       \u001b[0;32mreturn\u001b[0m \u001b[0mself\u001b[0m\u001b[0;34m.\u001b[0m\u001b[0m_inference_function\u001b[0m\u001b[0;34m.\u001b[0m\u001b[0mflat_call\u001b[0m\u001b[0;34m(\u001b[0m\u001b[0margs\u001b[0m\u001b[0;34m)\u001b[0m\u001b[0;34m\u001b[0m\u001b[0;34m\u001b[0m\u001b[0m\n\u001b[0m\u001b[1;32m   1265\u001b[0m     forward_backward = self._select_forward_and_backward_functions(\n\u001b[1;32m   1266\u001b[0m         \u001b[0margs\u001b[0m\u001b[0;34m,\u001b[0m\u001b[0;34m\u001b[0m\u001b[0;34m\u001b[0m\u001b[0m\n",
            "\u001b[0;32m/usr/local/lib/python3.10/dist-packages/tensorflow/python/eager/polymorphic_function/atomic_function.py\u001b[0m in \u001b[0;36mflat_call\u001b[0;34m(self, args)\u001b[0m\n\u001b[1;32m    215\u001b[0m   \u001b[0;32mdef\u001b[0m \u001b[0mflat_call\u001b[0m\u001b[0;34m(\u001b[0m\u001b[0mself\u001b[0m\u001b[0;34m,\u001b[0m \u001b[0margs\u001b[0m\u001b[0;34m:\u001b[0m \u001b[0mSequence\u001b[0m\u001b[0;34m[\u001b[0m\u001b[0mcore\u001b[0m\u001b[0;34m.\u001b[0m\u001b[0mTensor\u001b[0m\u001b[0;34m]\u001b[0m\u001b[0;34m)\u001b[0m \u001b[0;34m->\u001b[0m \u001b[0mAny\u001b[0m\u001b[0;34m:\u001b[0m\u001b[0;34m\u001b[0m\u001b[0;34m\u001b[0m\u001b[0m\n\u001b[1;32m    216\u001b[0m     \u001b[0;34m\"\"\"Calls with tensor inputs and returns the structured output.\"\"\"\u001b[0m\u001b[0;34m\u001b[0m\u001b[0;34m\u001b[0m\u001b[0m\n\u001b[0;32m--> 217\u001b[0;31m     \u001b[0mflat_outputs\u001b[0m \u001b[0;34m=\u001b[0m \u001b[0mself\u001b[0m\u001b[0;34m(\u001b[0m\u001b[0;34m*\u001b[0m\u001b[0margs\u001b[0m\u001b[0;34m)\u001b[0m\u001b[0;34m\u001b[0m\u001b[0;34m\u001b[0m\u001b[0m\n\u001b[0m\u001b[1;32m    218\u001b[0m     \u001b[0;32mreturn\u001b[0m \u001b[0mself\u001b[0m\u001b[0;34m.\u001b[0m\u001b[0mfunction_type\u001b[0m\u001b[0;34m.\u001b[0m\u001b[0mpack_output\u001b[0m\u001b[0;34m(\u001b[0m\u001b[0mflat_outputs\u001b[0m\u001b[0;34m)\u001b[0m\u001b[0;34m\u001b[0m\u001b[0;34m\u001b[0m\u001b[0m\n\u001b[1;32m    219\u001b[0m \u001b[0;34m\u001b[0m\u001b[0m\n",
            "\u001b[0;32m/usr/local/lib/python3.10/dist-packages/tensorflow/python/eager/polymorphic_function/atomic_function.py\u001b[0m in \u001b[0;36m__call__\u001b[0;34m(self, *args)\u001b[0m\n\u001b[1;32m    250\u001b[0m         \u001b[0;32mwith\u001b[0m \u001b[0mrecord\u001b[0m\u001b[0;34m.\u001b[0m\u001b[0mstop_recording\u001b[0m\u001b[0;34m(\u001b[0m\u001b[0;34m)\u001b[0m\u001b[0;34m:\u001b[0m\u001b[0;34m\u001b[0m\u001b[0;34m\u001b[0m\u001b[0m\n\u001b[1;32m    251\u001b[0m           \u001b[0;32mif\u001b[0m \u001b[0mself\u001b[0m\u001b[0;34m.\u001b[0m\u001b[0m_bound_context\u001b[0m\u001b[0;34m.\u001b[0m\u001b[0mexecuting_eagerly\u001b[0m\u001b[0;34m(\u001b[0m\u001b[0;34m)\u001b[0m\u001b[0;34m:\u001b[0m\u001b[0;34m\u001b[0m\u001b[0;34m\u001b[0m\u001b[0m\n\u001b[0;32m--> 252\u001b[0;31m             outputs = self._bound_context.call_function(\n\u001b[0m\u001b[1;32m    253\u001b[0m                 \u001b[0mself\u001b[0m\u001b[0;34m.\u001b[0m\u001b[0mname\u001b[0m\u001b[0;34m,\u001b[0m\u001b[0;34m\u001b[0m\u001b[0;34m\u001b[0m\u001b[0m\n\u001b[1;32m    254\u001b[0m                 \u001b[0mlist\u001b[0m\u001b[0;34m(\u001b[0m\u001b[0margs\u001b[0m\u001b[0;34m)\u001b[0m\u001b[0;34m,\u001b[0m\u001b[0;34m\u001b[0m\u001b[0;34m\u001b[0m\u001b[0m\n",
            "\u001b[0;32m/usr/local/lib/python3.10/dist-packages/tensorflow/python/eager/context.py\u001b[0m in \u001b[0;36mcall_function\u001b[0;34m(self, name, tensor_inputs, num_outputs)\u001b[0m\n\u001b[1;32m   1477\u001b[0m     \u001b[0mcancellation_context\u001b[0m \u001b[0;34m=\u001b[0m \u001b[0mcancellation\u001b[0m\u001b[0;34m.\u001b[0m\u001b[0mcontext\u001b[0m\u001b[0;34m(\u001b[0m\u001b[0;34m)\u001b[0m\u001b[0;34m\u001b[0m\u001b[0;34m\u001b[0m\u001b[0m\n\u001b[1;32m   1478\u001b[0m     \u001b[0;32mif\u001b[0m \u001b[0mcancellation_context\u001b[0m \u001b[0;32mis\u001b[0m \u001b[0;32mNone\u001b[0m\u001b[0;34m:\u001b[0m\u001b[0;34m\u001b[0m\u001b[0;34m\u001b[0m\u001b[0m\n\u001b[0;32m-> 1479\u001b[0;31m       outputs = execute.execute(\n\u001b[0m\u001b[1;32m   1480\u001b[0m           \u001b[0mname\u001b[0m\u001b[0;34m.\u001b[0m\u001b[0mdecode\u001b[0m\u001b[0;34m(\u001b[0m\u001b[0;34m\"utf-8\"\u001b[0m\u001b[0;34m)\u001b[0m\u001b[0;34m,\u001b[0m\u001b[0;34m\u001b[0m\u001b[0;34m\u001b[0m\u001b[0m\n\u001b[1;32m   1481\u001b[0m           \u001b[0mnum_outputs\u001b[0m\u001b[0;34m=\u001b[0m\u001b[0mnum_outputs\u001b[0m\u001b[0;34m,\u001b[0m\u001b[0;34m\u001b[0m\u001b[0;34m\u001b[0m\u001b[0m\n",
            "\u001b[0;32m/usr/local/lib/python3.10/dist-packages/tensorflow/python/eager/execute.py\u001b[0m in \u001b[0;36mquick_execute\u001b[0;34m(op_name, num_outputs, inputs, attrs, ctx, name)\u001b[0m\n\u001b[1;32m     58\u001b[0m         \u001b[0;32mfor\u001b[0m \u001b[0mt\u001b[0m \u001b[0;32min\u001b[0m \u001b[0minputs\u001b[0m\u001b[0;34m\u001b[0m\u001b[0;34m\u001b[0m\u001b[0m\n\u001b[1;32m     59\u001b[0m     ]\n\u001b[0;32m---> 60\u001b[0;31m     tensors = pywrap_tfe.TFE_Py_Execute(ctx._handle, device_name, op_name,\n\u001b[0m\u001b[1;32m     61\u001b[0m                                         inputs, attrs, num_outputs)\n\u001b[1;32m     62\u001b[0m   \u001b[0;32mexcept\u001b[0m \u001b[0mcore\u001b[0m\u001b[0;34m.\u001b[0m\u001b[0m_NotOkStatusException\u001b[0m \u001b[0;32mas\u001b[0m \u001b[0me\u001b[0m\u001b[0;34m:\u001b[0m\u001b[0;34m\u001b[0m\u001b[0;34m\u001b[0m\u001b[0m\n",
            "\u001b[0;31mKeyboardInterrupt\u001b[0m: "
          ]
        }
      ],
      "source": [
        "from tensorflow.keras.callbacks import ModelCheckpoint\n",
        "\n",
        "# Tentukan callback ModelCheckpoint\n",
        "checkpoint = ModelCheckpoint('best_model.h5',\n",
        "                             monitor='val_accuracy',  # Gunakan metrik yang relevan, misalnya 'val_loss' atau 'val_accuracy'\n",
        "                             save_best_only=True,     # Hanya simpan model terbaik\n",
        "                             mode='max',              # Mode 'max' untuk akurasi, 'min' untuk loss\n",
        "                             verbose=1)\n",
        "\n",
        "# Latih model dengan menggunakan callback ModelCheckpoint\n",
        "history = model.fit(x_train, y_train,\n",
        "                    epochs=100,\n",
        "                    batch_size=32,\n",
        "                    validation_data=(x_test, y_test),\n",
        "                    callbacks=[checkpoint])"
      ]
    },
    {
      "cell_type": "markdown",
      "metadata": {
        "id": "Win2bWp3xsMr"
      },
      "source": [
        "### plot akurasi"
      ]
    },
    {
      "cell_type": "code",
      "execution_count": 60,
      "metadata": {
        "colab": {
          "base_uri": "https://localhost:8080/",
          "height": 927
        },
        "id": "_lLiSiC4xsMs",
        "outputId": "d10cc2bc-c6b8-4f42-a503-aff0a43f1c80"
      },
      "outputs": [
        {
          "output_type": "display_data",
          "data": {
            "text/plain": [
              "<Figure size 640x480 with 1 Axes>"
            ],
            "image/png": "[encoded data removed]"
          },
          "metadata": {}
        },
        {
          "output_type": "display_data",
          "data": {
            "text/plain": [
              "<Figure size 640x480 with 1 Axes>"
            ],
            "image/png": "[encoded data removed]"
          },
          "metadata": {}
        }
      ],
      "source": [
        "import matplotlib.pyplot as plt\n",
        "\n",
        "\n",
        "plt.plot(history.history['accuracy'])\n",
        "plt.plot(history.history['val_accuracy'])\n",
        "plt.title('model accuracy')\n",
        "plt.ylabel('accuracy')\n",
        "plt.xlabel('epoch')\n",
        "plt.legend(['train', 'valid'], loc='upper right')\n",
        "plt.show()\n",
        "\n",
        "plt.plot(history.history['loss'])\n",
        "plt.plot(history.history['val_loss'])\n",
        "plt.title('model loss')\n",
        "plt.ylabel('loss')\n",
        "plt.xlabel('epoch')\n",
        "plt.legend(['train', 'valid'], loc='upper right')\n",
        "plt.show()"
      ]
    },
    {
      "cell_type": "code",
      "source": [
        "from tensorflow.keras.models import load_model\n",
        "\n",
        "# Menyimpan model\n",
        "# model.save('chatbot-new-.h5')\n",
        "\n",
        "# Memuat model dari file H5\n",
        "loaded_model = load_model('best_model_66.h5')\n"
      ],
      "metadata": {
        "id": "BUj_UrvXxqPM"
      },
      "execution_count": 58,
      "outputs": []
    },
    {
      "cell_type": "code",
      "execution_count": 48,
      "metadata": {
        "id": "-c2pNHC0xsMs"
      },
      "outputs": [],
      "source": [
        "import re\n",
        "import string\n",
        "\n",
        "# Load stopwords from file\n",
        "stop_words = set()\n",
        "with open('stopword_id.txt', 'r', encoding='utf-8') as file:\n",
        "    for line in file:\n",
        "        stop_words.add(line.strip())\n",
        "\n",
        "\n",
        "# Normalization rule for replacing \"haid\" with \"menstruasi\"\n",
        "normalization_rules = {'haid': 'menstruasi'}\n",
        "\n",
        "def preprocess_input(user_input):\n",
        "    # Convert to lowercase\n",
        "    user_input = user_input.lower()\n",
        "\n",
        "    # Normalize using rules\n",
        "    for key, value in normalization_rules.items():\n",
        "        user_input = user_input.replace(key, value)\n",
        "\n",
        "    # Remove characters not in [a-zA-Z0-9\\s]\n",
        "    user_input = re.sub(r'[.,’\"\\'-?:!;]', '', user_input)\n",
        "\n",
        "    # Remove punctuation\n",
        "    user_input = user_input.translate(str.maketrans(\"\", \"\", string.punctuation))\n",
        "\n",
        "    # Remove stopwords\n",
        "    words = user_input.split()\n",
        "    words = [word for word in words if word not in stop_words]\n",
        "\n",
        "    # Join the words\n",
        "    preprocessed_text = ' '.join(words)\n",
        "\n",
        "    # Remove extra whitespaces\n",
        "    preprocessed_text = re.sub(' +', ' ', preprocessed_text)\n",
        "\n",
        "    return preprocessed_text"
      ]
    },
    {
      "cell_type": "markdown",
      "metadata": {
        "id": "KcTWM2RPxsMt"
      },
      "source": [
        "### check output"
      ]
    },
    {
      "cell_type": "code",
      "execution_count": 22,
      "metadata": {
        "colab": {
          "base_uri": "https://localhost:8080/",
          "height": 1000
        },
        "id": "M9Q4zHdLxsMt",
        "outputId": "a89281b5-0674-4069-80b6-7970042999a4"
      },
      "outputs": [
        {
          "output_type": "stream",
          "name": "stdout",
          "text": [
            "You: aku menstruasi nih, bagaimana ngatasi nyerinya?\n",
            "menstruasi nih ngatasi nyerinya\n",
            "1/1 [==============================] - 1s 673ms/step\n"
          ]
        },
        {
          "output_type": "stream",
          "name": "stderr",
          "text": [
            "/usr/local/lib/python3.10/dist-packages/sklearn/preprocessing/_label.py:155: DataConversionWarning: A column-vector y was passed when a 1d array was expected. Please change the shape of y to (n_samples, ), for example using ravel().\n",
            "  y = column_or_1d(y, warn=True)\n"
          ]
        },
        {
          "output_type": "stream",
          "name": "stdout",
          "text": [
            "tags: siklus_menstruasi_normal\n",
            "Chatbot: Siklus menstruasi normal biasanya terdiri dari beberapa fase, termasuk menstruasi (hari-hari menstruasi), fase folikuler, ovulasi, dan fase luteal. Siklus menstruasi normal berlangsung selama 28-35 hari, namun bisa berbeda-beda pada setiap wanita. Fase menstruasi dimulai dengan hari pertama menstruasi dan berlanjut hingga fase folikuler, di mana folikel ovarium mulai berkembang. Kemudian terjadi ovulasi, di mana sel telur dilepaskan dari ovarium, dan akhirnya fase luteal, di mana tubuh bersiap untuk kehamilan. Jika kehamilan tidak terjadi, siklus ini akan berlanjut dengan menstruasi berikutnya.\n",
            "You: apa itu menstruasi?\n",
            "menstruasi\n",
            "1/1 [==============================] - 0s 21ms/step\n"
          ]
        },
        {
          "output_type": "stream",
          "name": "stderr",
          "text": [
            "/usr/local/lib/python3.10/dist-packages/sklearn/preprocessing/_label.py:155: DataConversionWarning: A column-vector y was passed when a 1d array was expected. Please change the shape of y to (n_samples, ), for example using ravel().\n",
            "  y = column_or_1d(y, warn=True)\n"
          ]
        },
        {
          "output_type": "stream",
          "name": "stdout",
          "text": [
            "tags: pengertian_menstruasi\n",
            "Chatbot: Menstruasi adalah proses alami yang terjadi pada wanita setiap bulan. Selama menstruasi, tubuh melepaskan lapisan rahim yang tidak diperlukan melalui vagina.\n",
            "You: kamu siapa?\n",
            "kamu siapa\n",
            "1/1 [==============================] - 0s 21ms/step\n"
          ]
        },
        {
          "output_type": "stream",
          "name": "stderr",
          "text": [
            "/usr/local/lib/python3.10/dist-packages/sklearn/preprocessing/_label.py:155: DataConversionWarning: A column-vector y was passed when a 1d array was expected. Please change the shape of y to (n_samples, ), for example using ravel().\n",
            "  y = column_or_1d(y, warn=True)\n"
          ]
        },
        {
          "output_type": "stream",
          "name": "stdout",
          "text": [
            "tags: tentang_aku\n",
            "Chatbot: aku adalah teman bicara kamu untuk membahas permasalahan menstruasi. Jangan malu untuk bertanya dengan aku tentang permasalahan kamu\n",
            "You: mengatasi nyeri menstruasi bagaimana?\n",
            "mengatasi nyeri menstruasi\n",
            "1/1 [==============================] - 0s 24ms/step\n"
          ]
        },
        {
          "output_type": "stream",
          "name": "stderr",
          "text": [
            "/usr/local/lib/python3.10/dist-packages/sklearn/preprocessing/_label.py:155: DataConversionWarning: A column-vector y was passed when a 1d array was expected. Please change the shape of y to (n_samples, ), for example using ravel().\n",
            "  y = column_or_1d(y, warn=True)\n"
          ]
        },
        {
          "output_type": "stream",
          "name": "stdout",
          "text": [
            "tags: pengobatan_nyeri_menstruasi\n",
            "Chatbot: Cara menangani nyeri menstruasi dapat meliputi penggunaan obat antiinflamasi nonsteroid (OAINS) seperti ibuprofen, perubahan gaya hidup seperti mengurangi konsumsi kafein dan alkohol, menggunakan panas pada daerah perut yang nyeri, dan berolahraga teratur. Dokter juga dapat meresepkan obat-obatan yang lebih kuat jika nyeri menstruasi sangat parah atau tidak merespons pengobatan OAINS. Selain itu, terapi hormon atau prosedur medis tertentu mungkin diperlukan jika nyeri menstruasi disebabkan oleh kondisi medis seperti endometriosis.\n",
            "You: oke byee\n",
            "oke byee\n",
            "1/1 [==============================] - 0s 21ms/step\n"
          ]
        },
        {
          "output_type": "stream",
          "name": "stderr",
          "text": [
            "/usr/local/lib/python3.10/dist-packages/sklearn/preprocessing/_label.py:155: DataConversionWarning: A column-vector y was passed when a 1d array was expected. Please change the shape of y to (n_samples, ), for example using ravel().\n",
            "  y = column_or_1d(y, warn=True)\n"
          ]
        },
        {
          "output_type": "stream",
          "name": "stdout",
          "text": [
            "tags: goodbye\n",
            "Chatbot: Dahh, semoga harimu menyenangkan yaa!\n"
          ]
        },
        {
          "output_type": "error",
          "ename": "KeyboardInterrupt",
          "evalue": "ignored",
          "traceback": [
            "\u001b[0;31m---------------------------------------------------------------------------\u001b[0m",
            "\u001b[0;31mKeyboardInterrupt\u001b[0m                         Traceback (most recent call last)",
            "\u001b[0;32m<ipython-input-22-07091412cf28>\u001b[0m in \u001b[0;36m<cell line: 4>\u001b[0;34m()\u001b[0m\n\u001b[1;32m      3\u001b[0m \u001b[0;34m\u001b[0m\u001b[0m\n\u001b[1;32m      4\u001b[0m \u001b[0;32mwhile\u001b[0m \u001b[0;32mTrue\u001b[0m\u001b[0;34m:\u001b[0m\u001b[0;34m\u001b[0m\u001b[0;34m\u001b[0m\u001b[0m\n\u001b[0;32m----> 5\u001b[0;31m     \u001b[0muser_input\u001b[0m \u001b[0;34m=\u001b[0m \u001b[0minput\u001b[0m\u001b[0;34m(\u001b[0m\u001b[0;34m'You: '\u001b[0m\u001b[0;34m)\u001b[0m\u001b[0;34m\u001b[0m\u001b[0;34m\u001b[0m\u001b[0m\n\u001b[0m\u001b[1;32m      6\u001b[0m     \u001b[0mpreprocessed_text\u001b[0m \u001b[0;34m=\u001b[0m \u001b[0mpreprocess_input\u001b[0m\u001b[0;34m(\u001b[0m\u001b[0muser_input\u001b[0m\u001b[0;34m)\u001b[0m\u001b[0;34m\u001b[0m\u001b[0;34m\u001b[0m\u001b[0m\n\u001b[1;32m      7\u001b[0m     \u001b[0;31m# preprocessed_text = user_input\u001b[0m\u001b[0;34m\u001b[0m\u001b[0;34m\u001b[0m\u001b[0m\n",
            "\u001b[0;32m/usr/local/lib/python3.10/dist-packages/ipykernel/kernelbase.py\u001b[0m in \u001b[0;36mraw_input\u001b[0;34m(self, prompt)\u001b[0m\n\u001b[1;32m    849\u001b[0m                 \u001b[0;34m\"raw_input was called, but this frontend does not support input requests.\"\u001b[0m\u001b[0;34m\u001b[0m\u001b[0;34m\u001b[0m\u001b[0m\n\u001b[1;32m    850\u001b[0m             )\n\u001b[0;32m--> 851\u001b[0;31m         return self._input_request(str(prompt),\n\u001b[0m\u001b[1;32m    852\u001b[0m             \u001b[0mself\u001b[0m\u001b[0;34m.\u001b[0m\u001b[0m_parent_ident\u001b[0m\u001b[0;34m,\u001b[0m\u001b[0;34m\u001b[0m\u001b[0;34m\u001b[0m\u001b[0m\n\u001b[1;32m    853\u001b[0m             \u001b[0mself\u001b[0m\u001b[0;34m.\u001b[0m\u001b[0m_parent_header\u001b[0m\u001b[0;34m,\u001b[0m\u001b[0;34m\u001b[0m\u001b[0;34m\u001b[0m\u001b[0m\n",
            "\u001b[0;32m/usr/local/lib/python3.10/dist-packages/ipykernel/kernelbase.py\u001b[0m in \u001b[0;36m_input_request\u001b[0;34m(self, prompt, ident, parent, password)\u001b[0m\n\u001b[1;32m    893\u001b[0m             \u001b[0;32mexcept\u001b[0m \u001b[0mKeyboardInterrupt\u001b[0m\u001b[0;34m:\u001b[0m\u001b[0;34m\u001b[0m\u001b[0;34m\u001b[0m\u001b[0m\n\u001b[1;32m    894\u001b[0m                 \u001b[0;31m# re-raise KeyboardInterrupt, to truncate traceback\u001b[0m\u001b[0;34m\u001b[0m\u001b[0;34m\u001b[0m\u001b[0m\n\u001b[0;32m--> 895\u001b[0;31m                 \u001b[0;32mraise\u001b[0m \u001b[0mKeyboardInterrupt\u001b[0m\u001b[0;34m(\u001b[0m\u001b[0;34m\"Interrupted by user\"\u001b[0m\u001b[0;34m)\u001b[0m \u001b[0;32mfrom\u001b[0m \u001b[0;32mNone\u001b[0m\u001b[0;34m\u001b[0m\u001b[0;34m\u001b[0m\u001b[0m\n\u001b[0m\u001b[1;32m    896\u001b[0m             \u001b[0;32mexcept\u001b[0m \u001b[0mException\u001b[0m \u001b[0;32mas\u001b[0m \u001b[0me\u001b[0m\u001b[0;34m:\u001b[0m\u001b[0;34m\u001b[0m\u001b[0;34m\u001b[0m\u001b[0m\n\u001b[1;32m    897\u001b[0m                 \u001b[0mself\u001b[0m\u001b[0;34m.\u001b[0m\u001b[0mlog\u001b[0m\u001b[0;34m.\u001b[0m\u001b[0mwarning\u001b[0m\u001b[0;34m(\u001b[0m\u001b[0;34m\"Invalid Message:\"\u001b[0m\u001b[0;34m,\u001b[0m \u001b[0mexc_info\u001b[0m\u001b[0;34m=\u001b[0m\u001b[0;32mTrue\u001b[0m\u001b[0;34m)\u001b[0m\u001b[0;34m\u001b[0m\u001b[0;34m\u001b[0m\u001b[0m\n",
            "\u001b[0;31mKeyboardInterrupt\u001b[0m: Interrupted by user"
          ]
        }
      ],
      "source": [
        "import random\n",
        "\n",
        "\n",
        "while True:\n",
        "    user_input = input('You: ')\n",
        "    preprocessed_text = preprocess_input(user_input)\n",
        "    # preprocessed_text = user_input\n",
        "    print(preprocessed_text)\n",
        "    if preprocessed_text.lower() == 'goodbye':\n",
        "        print(\"Chatbot: Goodbye!\")\n",
        "        break\n",
        "    try:\n",
        "        input_seq = tokenizer.texts_to_sequences([preprocessed_text])\n",
        "        input_seq = pad_sequences(input_seq, maxlen=max_len)\n",
        "        predicted_label_seq = model.predict(input_seq)\n",
        "        predicted_label = label_encoder.inverse_transform([predicted_label_seq.argmax(axis=-1)])[0]\n",
        "        print(\"tags:\", predicted_label)\n",
        "\n",
        "        # Pilih respons dari kategori tag\n",
        "        responses_for_tag = responses.get(predicted_label, [\"Chatbot: Maaf, saya tidak memahami maksud Anda.\"])\n",
        "        response = random.choice(responses_for_tag)\n",
        "\n",
        "        print(\"Chatbot:\", response)\n",
        "    except:\n",
        "        print(\"Chatbot: Maaf, saya tidak memahami maksud Anda.\")\n"
      ]
    },
    {
      "cell_type": "code",
      "source": [
        "import random\n",
        "\n",
        "\n",
        "while True:\n",
        "    user_input = input('You: ')\n",
        "    preprocessed_text = preprocess_input(user_input)\n",
        "    # preprocessed_text = user_input\n",
        "    print(preprocessed_text)\n",
        "    if preprocessed_text.lower() == 'goodbye':\n",
        "        print(\"Chatbot: Goodbye!\")\n",
        "        break\n",
        "    try:\n",
        "        input_seq = tokenizer.texts_to_sequences([preprocessed_text])\n",
        "        input_seq = pad_sequences(input_seq, maxlen=max_len)\n",
        "        predicted_label_seq = loaded_model.predict(input_seq)\n",
        "        predicted_label = label_encoder.inverse_transform([predicted_label_seq.argmax(axis=-1)])[0]\n",
        "        print(\"tags:\", predicted_label)\n",
        "\n",
        "        # Pilih respons dari kategori tag\n",
        "        responses_for_tag = responses.get(predicted_label, [\"Chatbot: Maaf, saya tidak memahami maksud Anda.\"])\n",
        "        response = random.choice(responses_for_tag)\n",
        "\n",
        "        print(\"Chatbot:\", response)\n",
        "    except:\n",
        "        print(\"Chatbot: Maaf, saya tidak memahami maksud Anda.\")\n"
      ],
      "metadata": {
        "colab": {
          "base_uri": "https://localhost:8080/",
          "height": 1000
        },
        "id": "bHrEb2tTySzq",
        "outputId": "4bc08eed-2b8e-4b60-974f-b9cd41ff8c04"
      },
      "execution_count": 59,
      "outputs": [
        {
          "output_type": "stream",
          "name": "stdout",
          "text": [
            "You: apa itu endomet?\n",
            "endomet\n",
            "1/1 [==============================] - 0s 416ms/step\n"
          ]
        },
        {
          "output_type": "stream",
          "name": "stderr",
          "text": [
            "/usr/local/lib/python3.10/dist-packages/sklearn/preprocessing/_label.py:155: DataConversionWarning: A column-vector y was passed when a 1d array was expected. Please change the shape of y to (n_samples, ), for example using ravel().\n",
            "  y = column_or_1d(y, warn=True)\n"
          ]
        },
        {
          "output_type": "stream",
          "name": "stdout",
          "text": [
            "tags: goodbye\n",
            "Chatbot: Dadahh!\n",
            "You: apa itu monopouse?\n",
            "monopouse\n",
            "1/1 [==============================] - 0s 23ms/step\n"
          ]
        },
        {
          "output_type": "stream",
          "name": "stderr",
          "text": [
            "/usr/local/lib/python3.10/dist-packages/sklearn/preprocessing/_label.py:155: DataConversionWarning: A column-vector y was passed when a 1d array was expected. Please change the shape of y to (n_samples, ), for example using ravel().\n",
            "  y = column_or_1d(y, warn=True)\n"
          ]
        },
        {
          "output_type": "stream",
          "name": "stdout",
          "text": [
            "tags: goodbye\n",
            "Chatbot: Good bye!\n",
            "You: apa iru nyeri haid?\n",
            "iru nyeri menstruasi\n",
            "1/1 [==============================] - 0s 22ms/step\n"
          ]
        },
        {
          "output_type": "stream",
          "name": "stderr",
          "text": [
            "/usr/local/lib/python3.10/dist-packages/sklearn/preprocessing/_label.py:155: DataConversionWarning: A column-vector y was passed when a 1d array was expected. Please change the shape of y to (n_samples, ), for example using ravel().\n",
            "  y = column_or_1d(y, warn=True)\n"
          ]
        },
        {
          "output_type": "stream",
          "name": "stdout",
          "text": [
            "tags: pengertian_nyeri_menstruasi\n",
            "Chatbot: Nyeri menstruasi, juga dikenal sebagai dismenore, adalah nyeri atau kram yang terjadi pada perut bagian bawah atau panggul selama menstruasi. Nyeri menstruasi dapat bervariasi dari rasa tidak nyaman hingga nyeri yang parah dan dapat memengaruhi kualitas hidup sebagian wanita. Nyeri ini biasanya terjadi sebelum atau selama awal menstruasi dan dapat berlangsung selama beberapa hari.\n",
            "You: mengtasi nyeri menstruasi?\n",
            "mengtasi nyeri menstruasi\n",
            "1/1 [==============================] - 0s 24ms/step\n"
          ]
        },
        {
          "output_type": "stream",
          "name": "stderr",
          "text": [
            "/usr/local/lib/python3.10/dist-packages/sklearn/preprocessing/_label.py:155: DataConversionWarning: A column-vector y was passed when a 1d array was expected. Please change the shape of y to (n_samples, ), for example using ravel().\n",
            "  y = column_or_1d(y, warn=True)\n"
          ]
        },
        {
          "output_type": "stream",
          "name": "stdout",
          "text": [
            "tags: pengertian_nyeri_menstruasi\n",
            "Chatbot: Nyeri menstruasi, juga dikenal sebagai dismenore, adalah nyeri atau kram yang terjadi pada perut bagian bawah atau panggul selama menstruasi. Nyeri menstruasi dapat bervariasi dari rasa tidak nyaman hingga nyeri yang parah dan dapat memengaruhi kualitas hidup sebagian wanita. Nyeri ini biasanya terjadi sebelum atau selama awal menstruasi dan dapat berlangsung selama beberapa hari.\n",
            "You: pcos?\n",
            "pcos\n",
            "1/1 [==============================] - 0s 24ms/step\n"
          ]
        },
        {
          "output_type": "stream",
          "name": "stderr",
          "text": [
            "/usr/local/lib/python3.10/dist-packages/sklearn/preprocessing/_label.py:155: DataConversionWarning: A column-vector y was passed when a 1d array was expected. Please change the shape of y to (n_samples, ), for example using ravel().\n",
            "  y = column_or_1d(y, warn=True)\n"
          ]
        },
        {
          "output_type": "stream",
          "name": "stdout",
          "text": [
            "tags: pengertian_PCOS\n",
            "Chatbot: PCOS (Polycystic Ovary Syndrome) adalah kondisi medis yang memengaruhi ovarium wanita. PCOS terjadi ketika ovarium menghasilkan jumlah hormon tertentu yang tidak seimbang, yang dapat menyebabkan pertumbuhan folikel ovarium yang tidak matang. Hal ini dapat mengganggu ovulasi dan menyebabkan gejala seperti gangguan menstruasi, pertumbuhan rambut berlebihan, dan masalah kesuburan.\n",
            "You: perbedaan pcos\n",
            "perbedaan pcos\n",
            "1/1 [==============================] - 0s 34ms/step\n"
          ]
        },
        {
          "output_type": "stream",
          "name": "stderr",
          "text": [
            "/usr/local/lib/python3.10/dist-packages/sklearn/preprocessing/_label.py:155: DataConversionWarning: A column-vector y was passed when a 1d array was expected. Please change the shape of y to (n_samples, ), for example using ravel().\n",
            "  y = column_or_1d(y, warn=True)\n"
          ]
        },
        {
          "output_type": "stream",
          "name": "stdout",
          "text": [
            "tags: pengertian_PCOS\n",
            "Chatbot: PCOS (Polycystic Ovary Syndrome) adalah kondisi medis yang memengaruhi ovarium wanita. PCOS terjadi ketika ovarium menghasilkan jumlah hormon tertentu yang tidak seimbang, yang dapat menyebabkan pertumbuhan folikel ovarium yang tidak matang. Hal ini dapat mengganggu ovulasi dan menyebabkan gejala seperti gangguan menstruasi, pertumbuhan rambut berlebihan, dan masalah kesuburan.\n",
            "You: endometrosis?\n",
            "endometrosis\n",
            "1/1 [==============================] - 0s 26ms/step\n"
          ]
        },
        {
          "output_type": "stream",
          "name": "stderr",
          "text": [
            "/usr/local/lib/python3.10/dist-packages/sklearn/preprocessing/_label.py:155: DataConversionWarning: A column-vector y was passed when a 1d array was expected. Please change the shape of y to (n_samples, ), for example using ravel().\n",
            "  y = column_or_1d(y, warn=True)\n"
          ]
        },
        {
          "output_type": "stream",
          "name": "stdout",
          "text": [
            "tags: pengertian_endometriosis\n",
            "Chatbot: Endometriosis adalah kondisi medis di mana jaringan yang biasanya tumbuh di dalam rahim (endometrium) mulai tumbuh di luar rahim. Ini bisa terjadi di ovarium, rahim, atau organ panggul lainnya. Kondisi ini seringkali menyebabkan nyeri panggul yang intens dan dapat memengaruhi kemampuan seseorang untuk hamil.\n",
            "You: mengtasi endometrosis?\n",
            "mengtasi endometrosis\n",
            "1/1 [==============================] - 0s 24ms/step\n"
          ]
        },
        {
          "output_type": "stream",
          "name": "stderr",
          "text": [
            "/usr/local/lib/python3.10/dist-packages/sklearn/preprocessing/_label.py:155: DataConversionWarning: A column-vector y was passed when a 1d array was expected. Please change the shape of y to (n_samples, ), for example using ravel().\n",
            "  y = column_or_1d(y, warn=True)\n"
          ]
        },
        {
          "output_type": "stream",
          "name": "stdout",
          "text": [
            "tags: pengertian_endometriosis\n",
            "Chatbot: Endometriosis adalah kondisi medis di mana jaringan yang biasanya tumbuh di dalam rahim (endometrium) mulai tumbuh di luar rahim. Ini bisa terjadi di ovarium, rahim, atau organ panggul lainnya. Kondisi ini seringkali menyebabkan nyeri panggul yang intens dan dapat memengaruhi kemampuan seseorang untuk hamil.\n",
            "You: bagaimana cara mentasi monoupose?\n",
            "cara mentasi monoupose\n",
            "1/1 [==============================] - 0s 23ms/step\n"
          ]
        },
        {
          "output_type": "stream",
          "name": "stderr",
          "text": [
            "/usr/local/lib/python3.10/dist-packages/sklearn/preprocessing/_label.py:155: DataConversionWarning: A column-vector y was passed when a 1d array was expected. Please change the shape of y to (n_samples, ), for example using ravel().\n",
            "  y = column_or_1d(y, warn=True)\n"
          ]
        },
        {
          "output_type": "stream",
          "name": "stdout",
          "text": [
            "tags: goodbye\n",
            "Chatbot: Sampai jumpa lagi!\n",
            "You: monoupose?\n",
            "monoupose\n",
            "1/1 [==============================] - 0s 38ms/step\n"
          ]
        },
        {
          "output_type": "stream",
          "name": "stderr",
          "text": [
            "/usr/local/lib/python3.10/dist-packages/sklearn/preprocessing/_label.py:155: DataConversionWarning: A column-vector y was passed when a 1d array was expected. Please change the shape of y to (n_samples, ), for example using ravel().\n",
            "  y = column_or_1d(y, warn=True)\n"
          ]
        },
        {
          "output_type": "stream",
          "name": "stdout",
          "text": [
            "tags: goodbye\n",
            "Chatbot: See u! Senang bisa membantu\n",
            "You: hubungi ke dokter?\n",
            "hubungi ke dokter\n",
            "1/1 [==============================] - 0s 25ms/step\n"
          ]
        },
        {
          "output_type": "stream",
          "name": "stderr",
          "text": [
            "/usr/local/lib/python3.10/dist-packages/sklearn/preprocessing/_label.py:155: DataConversionWarning: A column-vector y was passed when a 1d array was expected. Please change the shape of y to (n_samples, ), for example using ravel().\n",
            "  y = column_or_1d(y, warn=True)\n"
          ]
        },
        {
          "output_type": "stream",
          "name": "stdout",
          "text": [
            "tags: terimakasih\n",
            "Chatbot: Sama-sama yaa\n"
          ]
        },
        {
          "output_type": "error",
          "ename": "KeyboardInterrupt",
          "evalue": "ignored",
          "traceback": [
            "\u001b[0;31m---------------------------------------------------------------------------\u001b[0m",
            "\u001b[0;31mKeyboardInterrupt\u001b[0m                         Traceback (most recent call last)",
            "\u001b[0;32m<ipython-input-59-7a1e7608db97>\u001b[0m in \u001b[0;36m<cell line: 4>\u001b[0;34m()\u001b[0m\n\u001b[1;32m      3\u001b[0m \u001b[0;34m\u001b[0m\u001b[0m\n\u001b[1;32m      4\u001b[0m \u001b[0;32mwhile\u001b[0m \u001b[0;32mTrue\u001b[0m\u001b[0;34m:\u001b[0m\u001b[0;34m\u001b[0m\u001b[0;34m\u001b[0m\u001b[0m\n\u001b[0;32m----> 5\u001b[0;31m     \u001b[0muser_input\u001b[0m \u001b[0;34m=\u001b[0m \u001b[0minput\u001b[0m\u001b[0;34m(\u001b[0m\u001b[0;34m'You: '\u001b[0m\u001b[0;34m)\u001b[0m\u001b[0;34m\u001b[0m\u001b[0;34m\u001b[0m\u001b[0m\n\u001b[0m\u001b[1;32m      6\u001b[0m     \u001b[0mpreprocessed_text\u001b[0m \u001b[0;34m=\u001b[0m \u001b[0mpreprocess_input\u001b[0m\u001b[0;34m(\u001b[0m\u001b[0muser_input\u001b[0m\u001b[0;34m)\u001b[0m\u001b[0;34m\u001b[0m\u001b[0;34m\u001b[0m\u001b[0m\n\u001b[1;32m      7\u001b[0m     \u001b[0;31m# preprocessed_text = user_input\u001b[0m\u001b[0;34m\u001b[0m\u001b[0;34m\u001b[0m\u001b[0m\n",
            "\u001b[0;32m/usr/local/lib/python3.10/dist-packages/ipykernel/kernelbase.py\u001b[0m in \u001b[0;36mraw_input\u001b[0;34m(self, prompt)\u001b[0m\n\u001b[1;32m    849\u001b[0m                 \u001b[0;34m\"raw_input was called, but this frontend does not support input requests.\"\u001b[0m\u001b[0;34m\u001b[0m\u001b[0;34m\u001b[0m\u001b[0m\n\u001b[1;32m    850\u001b[0m             )\n\u001b[0;32m--> 851\u001b[0;31m         return self._input_request(str(prompt),\n\u001b[0m\u001b[1;32m    852\u001b[0m             \u001b[0mself\u001b[0m\u001b[0;34m.\u001b[0m\u001b[0m_parent_ident\u001b[0m\u001b[0;34m,\u001b[0m\u001b[0;34m\u001b[0m\u001b[0;34m\u001b[0m\u001b[0m\n\u001b[1;32m    853\u001b[0m             \u001b[0mself\u001b[0m\u001b[0;34m.\u001b[0m\u001b[0m_parent_header\u001b[0m\u001b[0;34m,\u001b[0m\u001b[0;34m\u001b[0m\u001b[0;34m\u001b[0m\u001b[0m\n",
            "\u001b[0;32m/usr/local/lib/python3.10/dist-packages/ipykernel/kernelbase.py\u001b[0m in \u001b[0;36m_input_request\u001b[0;34m(self, prompt, ident, parent, password)\u001b[0m\n\u001b[1;32m    893\u001b[0m             \u001b[0;32mexcept\u001b[0m \u001b[0mKeyboardInterrupt\u001b[0m\u001b[0;34m:\u001b[0m\u001b[0;34m\u001b[0m\u001b[0;34m\u001b[0m\u001b[0m\n\u001b[1;32m    894\u001b[0m                 \u001b[0;31m# re-raise KeyboardInterrupt, to truncate traceback\u001b[0m\u001b[0;34m\u001b[0m\u001b[0;34m\u001b[0m\u001b[0m\n\u001b[0;32m--> 895\u001b[0;31m                 \u001b[0;32mraise\u001b[0m \u001b[0mKeyboardInterrupt\u001b[0m\u001b[0;34m(\u001b[0m\u001b[0;34m\"Interrupted by user\"\u001b[0m\u001b[0;34m)\u001b[0m \u001b[0;32mfrom\u001b[0m \u001b[0;32mNone\u001b[0m\u001b[0;34m\u001b[0m\u001b[0;34m\u001b[0m\u001b[0m\n\u001b[0m\u001b[1;32m    896\u001b[0m             \u001b[0;32mexcept\u001b[0m \u001b[0mException\u001b[0m \u001b[0;32mas\u001b[0m \u001b[0me\u001b[0m\u001b[0;34m:\u001b[0m\u001b[0;34m\u001b[0m\u001b[0;34m\u001b[0m\u001b[0m\n\u001b[1;32m    897\u001b[0m                 \u001b[0mself\u001b[0m\u001b[0;34m.\u001b[0m\u001b[0mlog\u001b[0m\u001b[0;34m.\u001b[0m\u001b[0mwarning\u001b[0m\u001b[0;34m(\u001b[0m\u001b[0;34m\"Invalid Message:\"\u001b[0m\u001b[0;34m,\u001b[0m \u001b[0mexc_info\u001b[0m\u001b[0;34m=\u001b[0m\u001b[0;32mTrue\u001b[0m\u001b[0;34m)\u001b[0m\u001b[0;34m\u001b[0m\u001b[0;34m\u001b[0m\u001b[0m\n",
            "\u001b[0;31mKeyboardInterrupt\u001b[0m: Interrupted by user"
          ]
        }
      ]
    }
  ],
  "metadata": {
    "colab": {
      "provenance": [],
      "include_colab_link": true
    },
    "kernelspec": {
      "display_name": "cnn",
      "language": "python",
      "name": "python3"
    },
    "language_info": {
      "codemirror_mode": {
        "name": "ipython",
        "version": 3
      },
      "file_extension": ".py",
      "mimetype": "text/x-python",
      "name": "python",
      "nbconvert_exporter": "python",
      "pygments_lexer": "ipython3",
      "version": "3.10.12"
    }
  },
  "nbformat": 4,
  "nbformat_minor": 0
}